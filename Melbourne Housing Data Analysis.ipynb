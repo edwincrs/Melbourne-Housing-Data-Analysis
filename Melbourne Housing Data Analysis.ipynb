{
 "cells": [
  {
   "cell_type": "markdown",
   "metadata": {},
   "source": [
    "Pada latihan ini, kita akan menggunakan data “Melbourne Housing Snapshot”. Kalian bisa membaca lebih lanjut penjelasan dataset ini di laman [Kaggle berikut](https://www.kaggle.com/dansbecker/melbourne-housing-snapshot).\n"
   ]
  },
  {
   "cell_type": "code",
   "execution_count": 1,
   "metadata": {
    "ExecuteTime": {
     "end_time": "2022-02-21T04:45:32.657685Z",
     "start_time": "2022-02-21T04:45:30.994561Z"
    }
   },
   "outputs": [],
   "source": [
    "import pandas as pd\n",
    "import numpy as np\n",
    "from scipy.stats import shapiro\n",
    "from scipy.stats import kruskal\n",
    "import matplotlib.pyplot as plt\n",
    "import seaborn as sns"
   ]
  },
  {
   "cell_type": "code",
   "execution_count": 2,
   "metadata": {
    "ExecuteTime": {
     "end_time": "2022-02-21T04:45:32.705689Z",
     "start_time": "2022-02-21T04:45:32.658685Z"
    }
   },
   "outputs": [
    {
     "data": {
      "text/html": [
       "<div>\n",
       "<style scoped>\n",
       "    .dataframe tbody tr th:only-of-type {\n",
       "        vertical-align: middle;\n",
       "    }\n",
       "\n",
       "    .dataframe tbody tr th {\n",
       "        vertical-align: top;\n",
       "    }\n",
       "\n",
       "    .dataframe thead th {\n",
       "        text-align: right;\n",
       "    }\n",
       "</style>\n",
       "<table border=\"1\" class=\"dataframe\">\n",
       "  <thead>\n",
       "    <tr style=\"text-align: right;\">\n",
       "      <th></th>\n",
       "      <th>Suburb</th>\n",
       "      <th>Address</th>\n",
       "      <th>Rooms</th>\n",
       "      <th>Type</th>\n",
       "      <th>Price</th>\n",
       "      <th>Method</th>\n",
       "      <th>SellerG</th>\n",
       "      <th>Date</th>\n",
       "      <th>Distance</th>\n",
       "      <th>Postcode</th>\n",
       "      <th>Bedroom2</th>\n",
       "      <th>Bathroom</th>\n",
       "      <th>Car</th>\n",
       "      <th>Landsize</th>\n",
       "      <th>BuildingArea</th>\n",
       "      <th>YearBuilt</th>\n",
       "      <th>CouncilArea</th>\n",
       "      <th>Lattitude</th>\n",
       "      <th>Longtitude</th>\n",
       "      <th>Regionname</th>\n",
       "      <th>Propertycount</th>\n",
       "    </tr>\n",
       "  </thead>\n",
       "  <tbody>\n",
       "    <tr>\n",
       "      <th>0</th>\n",
       "      <td>Ascot Vale</td>\n",
       "      <td>2/43 Roxburgh St</td>\n",
       "      <td>2</td>\n",
       "      <td>u</td>\n",
       "      <td>455000.0</td>\n",
       "      <td>S</td>\n",
       "      <td>Nelson</td>\n",
       "      <td>3/09/2016</td>\n",
       "      <td>5.9</td>\n",
       "      <td>3032</td>\n",
       "      <td>3.0</td>\n",
       "      <td>1.0</td>\n",
       "      <td>2.0</td>\n",
       "      <td>0.0</td>\n",
       "      <td>NaN</td>\n",
       "      <td>NaN</td>\n",
       "      <td>Moonee Valley</td>\n",
       "      <td>-37.7756</td>\n",
       "      <td>144.9165</td>\n",
       "      <td>Western Metropolitan</td>\n",
       "      <td>6567.0</td>\n",
       "    </tr>\n",
       "    <tr>\n",
       "      <th>1</th>\n",
       "      <td>Ascot Vale</td>\n",
       "      <td>30 Rothwell St</td>\n",
       "      <td>3</td>\n",
       "      <td>h</td>\n",
       "      <td>940000.0</td>\n",
       "      <td>S</td>\n",
       "      <td>Nelson</td>\n",
       "      <td>3/12/2016</td>\n",
       "      <td>5.9</td>\n",
       "      <td>3032</td>\n",
       "      <td>3.0</td>\n",
       "      <td>1.0</td>\n",
       "      <td>2.0</td>\n",
       "      <td>298.0</td>\n",
       "      <td>108.0</td>\n",
       "      <td>1920.0</td>\n",
       "      <td>Moonee Valley</td>\n",
       "      <td>-37.7777</td>\n",
       "      <td>144.9195</td>\n",
       "      <td>Western Metropolitan</td>\n",
       "      <td>6567.0</td>\n",
       "    </tr>\n",
       "    <tr>\n",
       "      <th>2</th>\n",
       "      <td>Ascot Vale</td>\n",
       "      <td>9/5 Rothwell St</td>\n",
       "      <td>2</td>\n",
       "      <td>u</td>\n",
       "      <td>467000.0</td>\n",
       "      <td>SP</td>\n",
       "      <td>Brad</td>\n",
       "      <td>3/12/2016</td>\n",
       "      <td>5.9</td>\n",
       "      <td>3032</td>\n",
       "      <td>2.0</td>\n",
       "      <td>1.0</td>\n",
       "      <td>1.0</td>\n",
       "      <td>0.0</td>\n",
       "      <td>62.0</td>\n",
       "      <td>1980.0</td>\n",
       "      <td>Moonee Valley</td>\n",
       "      <td>-37.7761</td>\n",
       "      <td>144.9201</td>\n",
       "      <td>Western Metropolitan</td>\n",
       "      <td>6567.0</td>\n",
       "    </tr>\n",
       "    <tr>\n",
       "      <th>3</th>\n",
       "      <td>Ascot Vale</td>\n",
       "      <td>7 Francis St</td>\n",
       "      <td>3</td>\n",
       "      <td>h</td>\n",
       "      <td>1380000.0</td>\n",
       "      <td>SP</td>\n",
       "      <td>Nelson</td>\n",
       "      <td>4/03/2017</td>\n",
       "      <td>5.9</td>\n",
       "      <td>3032</td>\n",
       "      <td>3.0</td>\n",
       "      <td>2.0</td>\n",
       "      <td>2.0</td>\n",
       "      <td>277.0</td>\n",
       "      <td>174.0</td>\n",
       "      <td>1910.0</td>\n",
       "      <td>Moonee Valley</td>\n",
       "      <td>-37.7777</td>\n",
       "      <td>144.9221</td>\n",
       "      <td>Western Metropolitan</td>\n",
       "      <td>6567.0</td>\n",
       "    </tr>\n",
       "    <tr>\n",
       "      <th>4</th>\n",
       "      <td>Ascot Vale</td>\n",
       "      <td>2/21 Harold St</td>\n",
       "      <td>2</td>\n",
       "      <td>u</td>\n",
       "      <td>490000.0</td>\n",
       "      <td>VB</td>\n",
       "      <td>Jellis</td>\n",
       "      <td>4/03/2017</td>\n",
       "      <td>5.9</td>\n",
       "      <td>3032</td>\n",
       "      <td>2.0</td>\n",
       "      <td>1.0</td>\n",
       "      <td>1.0</td>\n",
       "      <td>423.0</td>\n",
       "      <td>62.0</td>\n",
       "      <td>1970.0</td>\n",
       "      <td>Moonee Valley</td>\n",
       "      <td>-37.7736</td>\n",
       "      <td>144.9015</td>\n",
       "      <td>Western Metropolitan</td>\n",
       "      <td>6567.0</td>\n",
       "    </tr>\n",
       "  </tbody>\n",
       "</table>\n",
       "</div>"
      ],
      "text/plain": [
       "       Suburb           Address  Rooms Type      Price Method SellerG  \\\n",
       "0  Ascot Vale  2/43 Roxburgh St      2    u   455000.0      S  Nelson   \n",
       "1  Ascot Vale    30 Rothwell St      3    h   940000.0      S  Nelson   \n",
       "2  Ascot Vale   9/5 Rothwell St      2    u   467000.0     SP    Brad   \n",
       "3  Ascot Vale      7 Francis St      3    h  1380000.0     SP  Nelson   \n",
       "4  Ascot Vale    2/21 Harold St      2    u   490000.0     VB  Jellis   \n",
       "\n",
       "        Date  Distance Postcode  Bedroom2  Bathroom  Car  Landsize  \\\n",
       "0  3/09/2016       5.9     3032       3.0       1.0  2.0       0.0   \n",
       "1  3/12/2016       5.9     3032       3.0       1.0  2.0     298.0   \n",
       "2  3/12/2016       5.9     3032       2.0       1.0  1.0       0.0   \n",
       "3  4/03/2017       5.9     3032       3.0       2.0  2.0     277.0   \n",
       "4  4/03/2017       5.9     3032       2.0       1.0  1.0     423.0   \n",
       "\n",
       "   BuildingArea  YearBuilt    CouncilArea  Lattitude  Longtitude  \\\n",
       "0           NaN        NaN  Moonee Valley   -37.7756    144.9165   \n",
       "1         108.0     1920.0  Moonee Valley   -37.7777    144.9195   \n",
       "2          62.0     1980.0  Moonee Valley   -37.7761    144.9201   \n",
       "3         174.0     1910.0  Moonee Valley   -37.7777    144.9221   \n",
       "4          62.0     1970.0  Moonee Valley   -37.7736    144.9015   \n",
       "\n",
       "             Regionname  Propertycount  \n",
       "0  Western Metropolitan         6567.0  \n",
       "1  Western Metropolitan         6567.0  \n",
       "2  Western Metropolitan         6567.0  \n",
       "3  Western Metropolitan         6567.0  \n",
       "4  Western Metropolitan         6567.0  "
      ]
     },
     "execution_count": 2,
     "metadata": {},
     "output_type": "execute_result"
    }
   ],
   "source": [
    "df=pd.read_csv('melb_data2.csv',dtype={'Postcode':str})\n",
    "pd.set_option('display.max_columns', 500)\n",
    "df.head()"
   ]
  },
  {
   "cell_type": "code",
   "execution_count": 3,
   "metadata": {
    "ExecuteTime": {
     "end_time": "2022-02-21T04:45:32.737698Z",
     "start_time": "2022-02-21T04:45:32.708694Z"
    }
   },
   "outputs": [
    {
     "name": "stdout",
     "output_type": "stream",
     "text": [
      "<class 'pandas.core.frame.DataFrame'>\n",
      "RangeIndex: 1129 entries, 0 to 1128\n",
      "Data columns (total 21 columns):\n",
      " #   Column         Non-Null Count  Dtype  \n",
      "---  ------         --------------  -----  \n",
      " 0   Suburb         1129 non-null   object \n",
      " 1   Address        1129 non-null   object \n",
      " 2   Rooms          1129 non-null   int64  \n",
      " 3   Type           1129 non-null   object \n",
      " 4   Price          1129 non-null   float64\n",
      " 5   Method         1129 non-null   object \n",
      " 6   SellerG        1129 non-null   object \n",
      " 7   Date           1129 non-null   object \n",
      " 8   Distance       1129 non-null   float64\n",
      " 9   Postcode       1129 non-null   object \n",
      " 10  Bedroom2       1129 non-null   float64\n",
      " 11  Bathroom       1129 non-null   float64\n",
      " 12  Car            1113 non-null   float64\n",
      " 13  Landsize       1129 non-null   float64\n",
      " 14  BuildingArea   601 non-null    float64\n",
      " 15  YearBuilt      713 non-null    float64\n",
      " 16  CouncilArea    1079 non-null   object \n",
      " 17  Lattitude      1129 non-null   float64\n",
      " 18  Longtitude     1129 non-null   float64\n",
      " 19  Regionname     1129 non-null   object \n",
      " 20  Propertycount  1129 non-null   float64\n",
      "dtypes: float64(11), int64(1), object(9)\n",
      "memory usage: 185.4+ KB\n"
     ]
    }
   ],
   "source": [
    "df.info()"
   ]
  },
  {
   "cell_type": "markdown",
   "metadata": {},
   "source": [
    "Gunakan hanya kolom-kolom berikut :\n",
    "\n",
    "Suburb, Address, Rooms, Type, Price, Distance, Landsize, Bedroom2, BuildingArea, Regionname"
   ]
  },
  {
   "cell_type": "code",
   "execution_count": 4,
   "metadata": {
    "ExecuteTime": {
     "end_time": "2022-02-21T04:45:32.769697Z",
     "start_time": "2022-02-21T04:45:32.740697Z"
    }
   },
   "outputs": [
    {
     "data": {
      "text/html": [
       "<div>\n",
       "<style scoped>\n",
       "    .dataframe tbody tr th:only-of-type {\n",
       "        vertical-align: middle;\n",
       "    }\n",
       "\n",
       "    .dataframe tbody tr th {\n",
       "        vertical-align: top;\n",
       "    }\n",
       "\n",
       "    .dataframe thead th {\n",
       "        text-align: right;\n",
       "    }\n",
       "</style>\n",
       "<table border=\"1\" class=\"dataframe\">\n",
       "  <thead>\n",
       "    <tr style=\"text-align: right;\">\n",
       "      <th></th>\n",
       "      <th>Suburb</th>\n",
       "      <th>Address</th>\n",
       "      <th>Rooms</th>\n",
       "      <th>Type</th>\n",
       "      <th>Price</th>\n",
       "      <th>Distance</th>\n",
       "      <th>Landsize</th>\n",
       "      <th>Bedroom2</th>\n",
       "      <th>BuildingArea</th>\n",
       "      <th>Regionname</th>\n",
       "      <th>Date</th>\n",
       "    </tr>\n",
       "  </thead>\n",
       "  <tbody>\n",
       "    <tr>\n",
       "      <th>0</th>\n",
       "      <td>Ascot Vale</td>\n",
       "      <td>2/43 Roxburgh St</td>\n",
       "      <td>2</td>\n",
       "      <td>u</td>\n",
       "      <td>455000.0</td>\n",
       "      <td>5.9</td>\n",
       "      <td>0.0</td>\n",
       "      <td>3.0</td>\n",
       "      <td>NaN</td>\n",
       "      <td>Western Metropolitan</td>\n",
       "      <td>3/09/2016</td>\n",
       "    </tr>\n",
       "    <tr>\n",
       "      <th>1</th>\n",
       "      <td>Ascot Vale</td>\n",
       "      <td>30 Rothwell St</td>\n",
       "      <td>3</td>\n",
       "      <td>h</td>\n",
       "      <td>940000.0</td>\n",
       "      <td>5.9</td>\n",
       "      <td>298.0</td>\n",
       "      <td>3.0</td>\n",
       "      <td>108.0</td>\n",
       "      <td>Western Metropolitan</td>\n",
       "      <td>3/12/2016</td>\n",
       "    </tr>\n",
       "    <tr>\n",
       "      <th>2</th>\n",
       "      <td>Ascot Vale</td>\n",
       "      <td>9/5 Rothwell St</td>\n",
       "      <td>2</td>\n",
       "      <td>u</td>\n",
       "      <td>467000.0</td>\n",
       "      <td>5.9</td>\n",
       "      <td>0.0</td>\n",
       "      <td>2.0</td>\n",
       "      <td>62.0</td>\n",
       "      <td>Western Metropolitan</td>\n",
       "      <td>3/12/2016</td>\n",
       "    </tr>\n",
       "    <tr>\n",
       "      <th>3</th>\n",
       "      <td>Ascot Vale</td>\n",
       "      <td>7 Francis St</td>\n",
       "      <td>3</td>\n",
       "      <td>h</td>\n",
       "      <td>1380000.0</td>\n",
       "      <td>5.9</td>\n",
       "      <td>277.0</td>\n",
       "      <td>3.0</td>\n",
       "      <td>174.0</td>\n",
       "      <td>Western Metropolitan</td>\n",
       "      <td>4/03/2017</td>\n",
       "    </tr>\n",
       "    <tr>\n",
       "      <th>4</th>\n",
       "      <td>Ascot Vale</td>\n",
       "      <td>2/21 Harold St</td>\n",
       "      <td>2</td>\n",
       "      <td>u</td>\n",
       "      <td>490000.0</td>\n",
       "      <td>5.9</td>\n",
       "      <td>423.0</td>\n",
       "      <td>2.0</td>\n",
       "      <td>62.0</td>\n",
       "      <td>Western Metropolitan</td>\n",
       "      <td>4/03/2017</td>\n",
       "    </tr>\n",
       "    <tr>\n",
       "      <th>...</th>\n",
       "      <td>...</td>\n",
       "      <td>...</td>\n",
       "      <td>...</td>\n",
       "      <td>...</td>\n",
       "      <td>...</td>\n",
       "      <td>...</td>\n",
       "      <td>...</td>\n",
       "      <td>...</td>\n",
       "      <td>...</td>\n",
       "      <td>...</td>\n",
       "      <td>...</td>\n",
       "    </tr>\n",
       "    <tr>\n",
       "      <th>1124</th>\n",
       "      <td>Carlton</td>\n",
       "      <td>50 Dorrit St</td>\n",
       "      <td>3</td>\n",
       "      <td>h</td>\n",
       "      <td>1760000.0</td>\n",
       "      <td>1.6</td>\n",
       "      <td>9405.0</td>\n",
       "      <td>3.0</td>\n",
       "      <td>134.0</td>\n",
       "      <td>Northern Metropolitan</td>\n",
       "      <td>26/08/2017</td>\n",
       "    </tr>\n",
       "    <tr>\n",
       "      <th>1125</th>\n",
       "      <td>Maribyrnong</td>\n",
       "      <td>88 The Esplanade</td>\n",
       "      <td>3</td>\n",
       "      <td>h</td>\n",
       "      <td>3400000.0</td>\n",
       "      <td>4.3</td>\n",
       "      <td>2027.0</td>\n",
       "      <td>3.0</td>\n",
       "      <td>187.0</td>\n",
       "      <td>Western Metropolitan</td>\n",
       "      <td>26/08/2017</td>\n",
       "    </tr>\n",
       "    <tr>\n",
       "      <th>1126</th>\n",
       "      <td>North Melbourne</td>\n",
       "      <td>9 Erskine St</td>\n",
       "      <td>2</td>\n",
       "      <td>h</td>\n",
       "      <td>1080000.0</td>\n",
       "      <td>1.8</td>\n",
       "      <td>100.0</td>\n",
       "      <td>2.0</td>\n",
       "      <td>67.0</td>\n",
       "      <td>Northern Metropolitan</td>\n",
       "      <td>26/08/2017</td>\n",
       "    </tr>\n",
       "    <tr>\n",
       "      <th>1127</th>\n",
       "      <td>Port Melbourne</td>\n",
       "      <td>44 Garton St</td>\n",
       "      <td>4</td>\n",
       "      <td>t</td>\n",
       "      <td>2455000.0</td>\n",
       "      <td>3.5</td>\n",
       "      <td>123.0</td>\n",
       "      <td>4.0</td>\n",
       "      <td>0.0</td>\n",
       "      <td>Southern Metropolitan</td>\n",
       "      <td>26/08/2017</td>\n",
       "    </tr>\n",
       "    <tr>\n",
       "      <th>1128</th>\n",
       "      <td>Port Melbourne</td>\n",
       "      <td>201 Stokes St</td>\n",
       "      <td>2</td>\n",
       "      <td>h</td>\n",
       "      <td>1515000.0</td>\n",
       "      <td>3.5</td>\n",
       "      <td>197.0</td>\n",
       "      <td>2.0</td>\n",
       "      <td>NaN</td>\n",
       "      <td>Southern Metropolitan</td>\n",
       "      <td>26/08/2017</td>\n",
       "    </tr>\n",
       "  </tbody>\n",
       "</table>\n",
       "<p>1129 rows × 11 columns</p>\n",
       "</div>"
      ],
      "text/plain": [
       "               Suburb           Address  Rooms Type      Price  Distance  \\\n",
       "0          Ascot Vale  2/43 Roxburgh St      2    u   455000.0       5.9   \n",
       "1          Ascot Vale    30 Rothwell St      3    h   940000.0       5.9   \n",
       "2          Ascot Vale   9/5 Rothwell St      2    u   467000.0       5.9   \n",
       "3          Ascot Vale      7 Francis St      3    h  1380000.0       5.9   \n",
       "4          Ascot Vale    2/21 Harold St      2    u   490000.0       5.9   \n",
       "...               ...               ...    ...  ...        ...       ...   \n",
       "1124          Carlton      50 Dorrit St      3    h  1760000.0       1.6   \n",
       "1125      Maribyrnong  88 The Esplanade      3    h  3400000.0       4.3   \n",
       "1126  North Melbourne      9 Erskine St      2    h  1080000.0       1.8   \n",
       "1127   Port Melbourne      44 Garton St      4    t  2455000.0       3.5   \n",
       "1128   Port Melbourne     201 Stokes St      2    h  1515000.0       3.5   \n",
       "\n",
       "      Landsize  Bedroom2  BuildingArea             Regionname        Date  \n",
       "0          0.0       3.0           NaN   Western Metropolitan   3/09/2016  \n",
       "1        298.0       3.0         108.0   Western Metropolitan   3/12/2016  \n",
       "2          0.0       2.0          62.0   Western Metropolitan   3/12/2016  \n",
       "3        277.0       3.0         174.0   Western Metropolitan   4/03/2017  \n",
       "4        423.0       2.0          62.0   Western Metropolitan   4/03/2017  \n",
       "...        ...       ...           ...                    ...         ...  \n",
       "1124    9405.0       3.0         134.0  Northern Metropolitan  26/08/2017  \n",
       "1125    2027.0       3.0         187.0   Western Metropolitan  26/08/2017  \n",
       "1126     100.0       2.0          67.0  Northern Metropolitan  26/08/2017  \n",
       "1127     123.0       4.0           0.0  Southern Metropolitan  26/08/2017  \n",
       "1128     197.0       2.0           NaN  Southern Metropolitan  26/08/2017  \n",
       "\n",
       "[1129 rows x 11 columns]"
      ]
     },
     "execution_count": 4,
     "metadata": {},
     "output_type": "execute_result"
    }
   ],
   "source": [
    "df=df[['Suburb','Address','Rooms','Type','Price','Distance','Landsize','Bedroom2','BuildingArea','Regionname','Date']]\n",
    "df"
   ]
  },
  {
   "cell_type": "markdown",
   "metadata": {},
   "source": [
    "Sekarang, tugas kalian adalah:  \n",
    "* Eksplorasi dan berikan gambaran umum dari data di atas (missing value, outliers, descriptive statistics)\n",
    "    * Coba isi missing value berdasarkan hasil eksplorasi kalian\n",
    "* Buat analisis sederhana untuk mencari tahu hubungan tiap-tiap variabel dengan kolom `Price`. Lakukan uji statistik untuk mengkonfirmasi temuan kalian!\n",
    "* Berikan simpulan dari analisis kalian. Saran apa yang bisa kalian berikan **kepada calon pembeli rumah** berdasarkan hasil analisis kalian?"
   ]
  },
  {
   "cell_type": "markdown",
   "metadata": {},
   "source": [
    "# Data Wrangling"
   ]
  },
  {
   "cell_type": "code",
   "execution_count": 5,
   "metadata": {
    "ExecuteTime": {
     "end_time": "2022-02-21T04:45:33.293735Z",
     "start_time": "2022-02-21T04:45:32.772697Z"
    }
   },
   "outputs": [
    {
     "data": {
      "text/plain": [
       "<AxesSubplot:>"
      ]
     },
     "execution_count": 5,
     "metadata": {},
     "output_type": "execute_result"
    },
    {
     "data": {
      "image/png": "[encoded data removed]",
      "text/plain": [
       "<Figure size 432x288 with 2 Axes>"
      ]
     },
     "metadata": {
      "needs_background": "light"
     },
     "output_type": "display_data"
    }
   ],
   "source": [
    "# cek missing value\n",
    "missing_val=df.isna()\n",
    "sns.heatmap(missing_val)"
   ]
  },
  {
   "cell_type": "code",
   "execution_count": 6,
   "metadata": {
    "ExecuteTime": {
     "end_time": "2022-02-21T04:45:33.309737Z",
     "start_time": "2022-02-21T04:45:33.295735Z"
    }
   },
   "outputs": [
    {
     "data": {
      "text/plain": [
       "Suburb            0\n",
       "Address           0\n",
       "Rooms             0\n",
       "Type              0\n",
       "Price             0\n",
       "Distance          0\n",
       "Landsize          0\n",
       "Bedroom2          0\n",
       "BuildingArea    528\n",
       "Regionname        0\n",
       "Date              0\n",
       "dtype: int64"
      ]
     },
     "execution_count": 6,
     "metadata": {},
     "output_type": "execute_result"
    }
   ],
   "source": [
    "missing_val.sum()"
   ]
  },
  {
   "cell_type": "markdown",
   "metadata": {
    "ExecuteTime": {
     "end_time": "2021-12-02T17:57:23.351947Z",
     "start_time": "2021-12-02T17:57:23.337353Z"
    }
   },
   "source": [
    "Dikarenakan terdapat Missing Value pada BuildingArea sebanyak 528/1129 data, maka diperlukan penanganan data dengan cara mengisi data missing value berdasarkan hubungan BuildingArea dengan data lain.\n",
    "\n",
    "Kita menggunakan rata-rata BuildingArea berdasarkan Type, karena semua BuildingArea memiliki klasifikasi Type, dan Type merupakan data dengan tipe kategorikal"
   ]
  },
  {
   "cell_type": "code",
   "execution_count": 7,
   "metadata": {
    "ExecuteTime": {
     "end_time": "2022-02-21T04:45:33.325737Z",
     "start_time": "2022-02-21T04:45:33.311739Z"
    }
   },
   "outputs": [
    {
     "data": {
      "text/plain": [
       "Type\n",
       "h    144.999170\n",
       "t    115.809167\n",
       "u     78.300725\n",
       "Name: BuildingArea, dtype: float64"
      ]
     },
     "execution_count": 7,
     "metadata": {},
     "output_type": "execute_result"
    }
   ],
   "source": [
    "df.groupby('Type').mean()['BuildingArea']"
   ]
  },
  {
   "cell_type": "code",
   "execution_count": 8,
   "metadata": {
    "ExecuteTime": {
     "end_time": "2022-02-21T04:45:33.357738Z",
     "start_time": "2022-02-21T04:45:33.328739Z"
    }
   },
   "outputs": [
    {
     "data": {
      "text/html": [
       "<div>\n",
       "<style scoped>\n",
       "    .dataframe tbody tr th:only-of-type {\n",
       "        vertical-align: middle;\n",
       "    }\n",
       "\n",
       "    .dataframe tbody tr th {\n",
       "        vertical-align: top;\n",
       "    }\n",
       "\n",
       "    .dataframe thead th {\n",
       "        text-align: right;\n",
       "    }\n",
       "</style>\n",
       "<table border=\"1\" class=\"dataframe\">\n",
       "  <thead>\n",
       "    <tr style=\"text-align: right;\">\n",
       "      <th></th>\n",
       "      <th>BuildingArea</th>\n",
       "    </tr>\n",
       "  </thead>\n",
       "  <tbody>\n",
       "    <tr>\n",
       "      <th>0</th>\n",
       "      <td>78.0</td>\n",
       "    </tr>\n",
       "    <tr>\n",
       "      <th>1</th>\n",
       "      <td>108.0</td>\n",
       "    </tr>\n",
       "    <tr>\n",
       "      <th>2</th>\n",
       "      <td>62.0</td>\n",
       "    </tr>\n",
       "    <tr>\n",
       "      <th>3</th>\n",
       "      <td>174.0</td>\n",
       "    </tr>\n",
       "    <tr>\n",
       "      <th>4</th>\n",
       "      <td>62.0</td>\n",
       "    </tr>\n",
       "    <tr>\n",
       "      <th>...</th>\n",
       "      <td>...</td>\n",
       "    </tr>\n",
       "    <tr>\n",
       "      <th>1124</th>\n",
       "      <td>134.0</td>\n",
       "    </tr>\n",
       "    <tr>\n",
       "      <th>1125</th>\n",
       "      <td>187.0</td>\n",
       "    </tr>\n",
       "    <tr>\n",
       "      <th>1126</th>\n",
       "      <td>67.0</td>\n",
       "    </tr>\n",
       "    <tr>\n",
       "      <th>1127</th>\n",
       "      <td>0.0</td>\n",
       "    </tr>\n",
       "    <tr>\n",
       "      <th>1128</th>\n",
       "      <td>145.0</td>\n",
       "    </tr>\n",
       "  </tbody>\n",
       "</table>\n",
       "<p>1129 rows × 1 columns</p>\n",
       "</div>"
      ],
      "text/plain": [
       "      BuildingArea\n",
       "0             78.0\n",
       "1            108.0\n",
       "2             62.0\n",
       "3            174.0\n",
       "4             62.0\n",
       "...            ...\n",
       "1124         134.0\n",
       "1125         187.0\n",
       "1126          67.0\n",
       "1127           0.0\n",
       "1128         145.0\n",
       "\n",
       "[1129 rows x 1 columns]"
      ]
     },
     "execution_count": 8,
     "metadata": {},
     "output_type": "execute_result"
    }
   ],
   "source": [
    "# Memasukan data kedalam missing value\n",
    "df['BuildingArea']=df.groupby('Type')['BuildingArea'].apply(lambda x: x.fillna(round(x.mean(),0)))\n",
    "df[['BuildingArea']]"
   ]
  },
  {
   "cell_type": "markdown",
   "metadata": {},
   "source": [
    "Dari data Landsize, ditemukan nilai Landsize=0, namun memiliki Type, Room, Bedroom, dan Building Area. Akan dilakukan pengecekan lebih lanjut untuk data Landsize=0"
   ]
  },
  {
   "cell_type": "markdown",
   "metadata": {},
   "source": [
    "Berikut adalah penjelasan mengenai tipe rumah:\n",
    "* H : house,cottage,villa, semi,terrace\n",
    "* U : unit, duplex\n",
    "* T : townhouse; dev site - development site"
   ]
  },
  {
   "cell_type": "code",
   "execution_count": 9,
   "metadata": {
    "ExecuteTime": {
     "end_time": "2022-02-21T04:45:33.388743Z",
     "start_time": "2022-02-21T04:45:33.360743Z"
    }
   },
   "outputs": [
    {
     "data": {
      "text/html": [
       "<div>\n",
       "<style scoped>\n",
       "    .dataframe tbody tr th:only-of-type {\n",
       "        vertical-align: middle;\n",
       "    }\n",
       "\n",
       "    .dataframe tbody tr th {\n",
       "        vertical-align: top;\n",
       "    }\n",
       "\n",
       "    .dataframe thead th {\n",
       "        text-align: right;\n",
       "    }\n",
       "</style>\n",
       "<table border=\"1\" class=\"dataframe\">\n",
       "  <thead>\n",
       "    <tr style=\"text-align: right;\">\n",
       "      <th></th>\n",
       "      <th>Type</th>\n",
       "      <th>Landsize</th>\n",
       "    </tr>\n",
       "  </thead>\n",
       "  <tbody>\n",
       "    <tr>\n",
       "      <th>0</th>\n",
       "      <td>h</td>\n",
       "      <td>21</td>\n",
       "    </tr>\n",
       "    <tr>\n",
       "      <th>1</th>\n",
       "      <td>t</td>\n",
       "      <td>22</td>\n",
       "    </tr>\n",
       "    <tr>\n",
       "      <th>2</th>\n",
       "      <td>u</td>\n",
       "      <td>377</td>\n",
       "    </tr>\n",
       "  </tbody>\n",
       "</table>\n",
       "</div>"
      ],
      "text/plain": [
       "  Type  Landsize\n",
       "0    h        21\n",
       "1    t        22\n",
       "2    u       377"
      ]
     },
     "execution_count": 9,
     "metadata": {},
     "output_type": "execute_result"
    }
   ],
   "source": [
    "# cek data landsize dengan nilai 0 berdasarkan type\n",
    "land_0=df[df['Landsize']==0][['Landsize','Type']]\n",
    "land_0.groupby('Type').count().reset_index()"
   ]
  },
  {
   "cell_type": "code",
   "execution_count": 10,
   "metadata": {
    "ExecuteTime": {
     "end_time": "2022-02-21T04:45:33.403743Z",
     "start_time": "2022-02-21T04:45:33.389743Z"
    }
   },
   "outputs": [
    {
     "data": {
      "text/plain": [
       "0"
      ]
     },
     "execution_count": 10,
     "metadata": {},
     "output_type": "execute_result"
    }
   ],
   "source": [
    "((df['Landsize']==0)&(df['BuildingArea']==0)).sum() # LANDSIZE 0 DAN BUILDINGAREA 0 TIDAK ADA"
   ]
  },
  {
   "cell_type": "code",
   "execution_count": 11,
   "metadata": {
    "ExecuteTime": {
     "end_time": "2022-02-21T04:45:33.435745Z",
     "start_time": "2022-02-21T04:45:33.404744Z"
    }
   },
   "outputs": [
    {
     "data": {
      "text/html": [
       "<div>\n",
       "<style scoped>\n",
       "    .dataframe tbody tr th:only-of-type {\n",
       "        vertical-align: middle;\n",
       "    }\n",
       "\n",
       "    .dataframe tbody tr th {\n",
       "        vertical-align: top;\n",
       "    }\n",
       "\n",
       "    .dataframe thead th {\n",
       "        text-align: right;\n",
       "    }\n",
       "</style>\n",
       "<table border=\"1\" class=\"dataframe\">\n",
       "  <thead>\n",
       "    <tr style=\"text-align: right;\">\n",
       "      <th></th>\n",
       "      <th>Type</th>\n",
       "      <th>Landsize</th>\n",
       "    </tr>\n",
       "  </thead>\n",
       "  <tbody>\n",
       "    <tr>\n",
       "      <th>0</th>\n",
       "      <td>h</td>\n",
       "      <td>304.0</td>\n",
       "    </tr>\n",
       "    <tr>\n",
       "      <th>1</th>\n",
       "      <td>t</td>\n",
       "      <td>202.0</td>\n",
       "    </tr>\n",
       "    <tr>\n",
       "      <th>2</th>\n",
       "      <td>u</td>\n",
       "      <td>977.0</td>\n",
       "    </tr>\n",
       "  </tbody>\n",
       "</table>\n",
       "</div>"
      ],
      "text/plain": [
       "  Type  Landsize\n",
       "0    h     304.0\n",
       "1    t     202.0\n",
       "2    u     977.0"
      ]
     },
     "execution_count": 11,
     "metadata": {},
     "output_type": "execute_result"
    }
   ],
   "source": [
    "type_mean=round(df.groupby('Type').mean()[['Landsize']],0).reset_index()\n",
    "type_mean"
   ]
  },
  {
   "cell_type": "code",
   "execution_count": 12,
   "metadata": {
    "ExecuteTime": {
     "end_time": "2022-02-21T04:45:33.451750Z",
     "start_time": "2022-02-21T04:45:33.437747Z"
    }
   },
   "outputs": [],
   "source": [
    "# # mengganti landsize=0 di rumah tipe h dan t\n",
    "index_h=df[(df['Type']=='h')&(df['Landsize']==0)].index\n",
    "index_t=df[(df['Type']=='t')&(df['Landsize']==0)].index\n"
   ]
  },
  {
   "cell_type": "code",
   "execution_count": 13,
   "metadata": {
    "ExecuteTime": {
     "end_time": "2022-02-21T04:45:33.467748Z",
     "start_time": "2022-02-21T04:45:33.453748Z"
    }
   },
   "outputs": [],
   "source": [
    "df.loc[(df['Type']=='h')&(df['Landsize']==0),'Landsize']=304\n",
    "df.loc[(df['Type']=='t')&(df['Landsize']==0),'Landsize']=202"
   ]
  },
  {
   "cell_type": "markdown",
   "metadata": {},
   "source": [
    "Data Landsize=0 terdapat pada semua tipe. Hal ini mungkin dikarenakan:\n",
    "* Data Landsize=0 merupakan bangunan apartemen yang terletak tidak di lantai dasar (untuk tipe U)\n",
    "* Data Landsize=0 merupakan data outlier/NaN yang dalam bentuk numerik, sehingga data Landsize=0 perlu disubstitusi dengan nilai lain"
   ]
  },
  {
   "cell_type": "markdown",
   "metadata": {},
   "source": [
    "# Data Analysis dan Data Visualization\n",
    "Kita akan melakukan analisa dan visualisasi semua data terhadap data Price. Analisa dan visualisasi akan dikategorikan  **berdasarkan data kualitatif (kategorikal,ordinal)** dan **berdasarkan data kuantitatif (diskrit,numerik)**"
   ]
  },
  {
   "cell_type": "markdown",
   "metadata": {},
   "source": [
    "## Deskripsi Data"
   ]
  },
  {
   "cell_type": "code",
   "execution_count": 14,
   "metadata": {
    "ExecuteTime": {
     "end_time": "2022-02-21T04:45:33.499750Z",
     "start_time": "2022-02-21T04:45:33.469750Z"
    }
   },
   "outputs": [],
   "source": [
    "# Untuk mengecek data kuantitatif\n",
    "desc_kuanti=df.describe() "
   ]
  },
  {
   "cell_type": "code",
   "execution_count": 15,
   "metadata": {
    "ExecuteTime": {
     "end_time": "2022-02-21T04:45:33.514753Z",
     "start_time": "2022-02-21T04:45:33.501754Z"
    }
   },
   "outputs": [
    {
     "data": {
      "text/plain": [
       "[' Modus Rooms  = 0    2\\ndtype: int64',\n",
       " ' Modus Price  = 0    1100000.0\\ndtype: float64',\n",
       " ' Modus Distance  = 0    3.3\\ndtype: float64',\n",
       " ' Modus Landsize  = 0    0.0\\ndtype: float64',\n",
       " ' Modus Bedroom2  = 0    2.0\\ndtype: float64',\n",
       " ' Modus BuildingArea  = 0    78.0\\ndtype: float64']"
      ]
     },
     "execution_count": 15,
     "metadata": {},
     "output_type": "execute_result"
    }
   ],
   "source": [
    "kolom=['Rooms','Price','Distance','Landsize','Bedroom2','BuildingArea']\n",
    "hasil=[]\n",
    "for i in kolom:\n",
    "    mode_=df[i].mode()\n",
    "    hasil.append(f' Modus {i}  = {mode_}')      \n",
    "hasil"
   ]
  },
  {
   "cell_type": "code",
   "execution_count": 16,
   "metadata": {
    "ExecuteTime": {
     "end_time": "2022-02-21T04:45:33.545753Z",
     "start_time": "2022-02-21T04:45:33.516753Z"
    }
   },
   "outputs": [
    {
     "data": {
      "text/html": [
       "<div>\n",
       "<style scoped>\n",
       "    .dataframe tbody tr th:only-of-type {\n",
       "        vertical-align: middle;\n",
       "    }\n",
       "\n",
       "    .dataframe tbody tr th {\n",
       "        vertical-align: top;\n",
       "    }\n",
       "\n",
       "    .dataframe thead th {\n",
       "        text-align: right;\n",
       "    }\n",
       "</style>\n",
       "<table border=\"1\" class=\"dataframe\">\n",
       "  <thead>\n",
       "    <tr style=\"text-align: right;\">\n",
       "      <th></th>\n",
       "      <th>count</th>\n",
       "      <th>mean</th>\n",
       "      <th>std</th>\n",
       "      <th>min</th>\n",
       "      <th>25%</th>\n",
       "      <th>50%</th>\n",
       "      <th>75%</th>\n",
       "      <th>max</th>\n",
       "    </tr>\n",
       "  </thead>\n",
       "  <tbody>\n",
       "    <tr>\n",
       "      <th>Rooms</th>\n",
       "      <td>1129.0</td>\n",
       "      <td>2.400354e+00</td>\n",
       "      <td>0.891767</td>\n",
       "      <td>1.0</td>\n",
       "      <td>2.0</td>\n",
       "      <td>2.0</td>\n",
       "      <td>3.0</td>\n",
       "      <td>6.0</td>\n",
       "    </tr>\n",
       "    <tr>\n",
       "      <th>Price</th>\n",
       "      <td>1129.0</td>\n",
       "      <td>1.008926e+06</td>\n",
       "      <td>586517.307921</td>\n",
       "      <td>210000.0</td>\n",
       "      <td>570000.0</td>\n",
       "      <td>888000.0</td>\n",
       "      <td>1280000.0</td>\n",
       "      <td>5700000.0</td>\n",
       "    </tr>\n",
       "    <tr>\n",
       "      <th>Distance</th>\n",
       "      <td>1129.0</td>\n",
       "      <td>3.747033e+00</td>\n",
       "      <td>1.774492</td>\n",
       "      <td>0.0</td>\n",
       "      <td>2.7</td>\n",
       "      <td>3.4</td>\n",
       "      <td>4.3</td>\n",
       "      <td>8.7</td>\n",
       "    </tr>\n",
       "    <tr>\n",
       "      <th>Landsize</th>\n",
       "      <td>1129.0</td>\n",
       "      <td>6.153587e+02</td>\n",
       "      <td>2373.917862</td>\n",
       "      <td>0.0</td>\n",
       "      <td>0.0</td>\n",
       "      <td>163.0</td>\n",
       "      <td>321.0</td>\n",
       "      <td>37000.0</td>\n",
       "    </tr>\n",
       "    <tr>\n",
       "      <th>Bedroom2</th>\n",
       "      <td>1129.0</td>\n",
       "      <td>2.372896e+00</td>\n",
       "      <td>0.882257</td>\n",
       "      <td>0.0</td>\n",
       "      <td>2.0</td>\n",
       "      <td>2.0</td>\n",
       "      <td>3.0</td>\n",
       "      <td>6.0</td>\n",
       "    </tr>\n",
       "    <tr>\n",
       "      <th>BuildingArea</th>\n",
       "      <td>1129.0</td>\n",
       "      <td>1.118686e+02</td>\n",
       "      <td>49.247852</td>\n",
       "      <td>0.0</td>\n",
       "      <td>78.0</td>\n",
       "      <td>102.0</td>\n",
       "      <td>145.0</td>\n",
       "      <td>450.0</td>\n",
       "    </tr>\n",
       "  </tbody>\n",
       "</table>\n",
       "</div>"
      ],
      "text/plain": [
       "               count          mean            std       min       25%  \\\n",
       "Rooms         1129.0  2.400354e+00       0.891767       1.0       2.0   \n",
       "Price         1129.0  1.008926e+06  586517.307921  210000.0  570000.0   \n",
       "Distance      1129.0  3.747033e+00       1.774492       0.0       2.7   \n",
       "Landsize      1129.0  6.153587e+02    2373.917862       0.0       0.0   \n",
       "Bedroom2      1129.0  2.372896e+00       0.882257       0.0       2.0   \n",
       "BuildingArea  1129.0  1.118686e+02      49.247852       0.0      78.0   \n",
       "\n",
       "                   50%        75%        max  \n",
       "Rooms              2.0        3.0        6.0  \n",
       "Price         888000.0  1280000.0  5700000.0  \n",
       "Distance           3.4        4.3        8.7  \n",
       "Landsize         163.0      321.0    37000.0  \n",
       "Bedroom2           2.0        3.0        6.0  \n",
       "BuildingArea     102.0      145.0      450.0  "
      ]
     },
     "execution_count": 16,
     "metadata": {},
     "output_type": "execute_result"
    }
   ],
   "source": [
    "desc_kuanti.T"
   ]
  },
  {
   "cell_type": "markdown",
   "metadata": {},
   "source": [
    "Diperoleh nilai sebagai berikut:\n",
    "* Rooms : jumlah ruangan minimal adalah 1 dan maksimal 6\n",
    "* Price : harga housing rata-rata adalah 1.008.926 AUD\n",
    "* Distance : jarak rata-rata dari housing ke Central Business District adalah 3.747033e+00 Km\n",
    "* Landsize : rata-rata luas tanah adalah 615,3587 m2\t\n",
    "* Bedroom2 : jumlah kamar minimal adalah 0 dan maksimal 6\n",
    "* BuildingArea : rata-rata luas bangunan adalah 111.8686 m2"
   ]
  },
  {
   "cell_type": "code",
   "execution_count": 17,
   "metadata": {
    "ExecuteTime": {
     "end_time": "2022-02-21T04:45:33.576755Z",
     "start_time": "2022-02-21T04:45:33.546754Z"
    }
   },
   "outputs": [
    {
     "data": {
      "text/html": [
       "<div>\n",
       "<style scoped>\n",
       "    .dataframe tbody tr th:only-of-type {\n",
       "        vertical-align: middle;\n",
       "    }\n",
       "\n",
       "    .dataframe tbody tr th {\n",
       "        vertical-align: top;\n",
       "    }\n",
       "\n",
       "    .dataframe thead th {\n",
       "        text-align: right;\n",
       "    }\n",
       "</style>\n",
       "<table border=\"1\" class=\"dataframe\">\n",
       "  <thead>\n",
       "    <tr style=\"text-align: right;\">\n",
       "      <th></th>\n",
       "      <th>Suburb</th>\n",
       "      <th>Address</th>\n",
       "      <th>Type</th>\n",
       "      <th>Regionname</th>\n",
       "      <th>Date</th>\n",
       "    </tr>\n",
       "  </thead>\n",
       "  <tbody>\n",
       "    <tr>\n",
       "      <th>count</th>\n",
       "      <td>1129</td>\n",
       "      <td>1129</td>\n",
       "      <td>1129</td>\n",
       "      <td>1129</td>\n",
       "      <td>1129</td>\n",
       "    </tr>\n",
       "    <tr>\n",
       "      <th>unique</th>\n",
       "      <td>17</td>\n",
       "      <td>1115</td>\n",
       "      <td>3</td>\n",
       "      <td>3</td>\n",
       "      <td>57</td>\n",
       "    </tr>\n",
       "    <tr>\n",
       "      <th>top</th>\n",
       "      <td>South Yarra</td>\n",
       "      <td>11 Nottingham St</td>\n",
       "      <td>u</td>\n",
       "      <td>Northern Metropolitan</td>\n",
       "      <td>7/05/2016</td>\n",
       "    </tr>\n",
       "    <tr>\n",
       "      <th>freq</th>\n",
       "      <td>202</td>\n",
       "      <td>2</td>\n",
       "      <td>520</td>\n",
       "      <td>494</td>\n",
       "      <td>36</td>\n",
       "    </tr>\n",
       "  </tbody>\n",
       "</table>\n",
       "</div>"
      ],
      "text/plain": [
       "             Suburb           Address  Type             Regionname       Date\n",
       "count          1129              1129  1129                   1129       1129\n",
       "unique           17              1115     3                      3         57\n",
       "top     South Yarra  11 Nottingham St     u  Northern Metropolitan  7/05/2016\n",
       "freq            202                 2   520                    494         36"
      ]
     },
     "execution_count": 17,
     "metadata": {},
     "output_type": "execute_result"
    }
   ],
   "source": [
    "# Untuk mengecek data kualitatif\n",
    "df.describe(include=object)"
   ]
  },
  {
   "cell_type": "markdown",
   "metadata": {},
   "source": [
    "Diperoleh nilai sebagai berikut :\n",
    "* Suburb: memiliki 17 Suburb. South Yarra merupakan suburb dimana rumah paling banyak dijual\n",
    "* Address : memiliki 1115 alamat. 40 Fawkner St merupakan alamat dimana rumah paling banyak dijual\n",
    "* Type : memiliki 3 tipe rumah (U,H,T), dimana U meruapakan tipe yang paling banyak dijual\n",
    "* Regionname : terletak pada 3 region, dimana region yang paling sering muncul adalah Northern Metropolitan\n",
    "* Date : memiliki penjualan di 57 waktu berbeda, dengan penjualan terbanyak dilakukan pada 07/05/2016"
   ]
  },
  {
   "cell_type": "code",
   "execution_count": 18,
   "metadata": {
    "ExecuteTime": {
     "end_time": "2022-02-21T04:45:33.623759Z",
     "start_time": "2022-02-21T04:45:33.577759Z"
    }
   },
   "outputs": [
    {
     "data": {
      "text/html": [
       "<div>\n",
       "<style scoped>\n",
       "    .dataframe tbody tr th:only-of-type {\n",
       "        vertical-align: middle;\n",
       "    }\n",
       "\n",
       "    .dataframe tbody tr th {\n",
       "        vertical-align: top;\n",
       "    }\n",
       "\n",
       "    .dataframe thead th {\n",
       "        text-align: right;\n",
       "    }\n",
       "</style>\n",
       "<table border=\"1\" class=\"dataframe\">\n",
       "  <thead>\n",
       "    <tr style=\"text-align: right;\">\n",
       "      <th></th>\n",
       "      <th>jumlah outlier</th>\n",
       "    </tr>\n",
       "  </thead>\n",
       "  <tbody>\n",
       "    <tr>\n",
       "      <th>Rooms</th>\n",
       "      <td>19</td>\n",
       "    </tr>\n",
       "    <tr>\n",
       "      <th>Price</th>\n",
       "      <td>39</td>\n",
       "    </tr>\n",
       "    <tr>\n",
       "      <th>Distance</th>\n",
       "      <td>81</td>\n",
       "    </tr>\n",
       "    <tr>\n",
       "      <th>Landsize</th>\n",
       "      <td>125</td>\n",
       "    </tr>\n",
       "    <tr>\n",
       "      <th>Bedroom2</th>\n",
       "      <td>19</td>\n",
       "    </tr>\n",
       "    <tr>\n",
       "      <th>BuildingArea</th>\n",
       "      <td>20</td>\n",
       "    </tr>\n",
       "  </tbody>\n",
       "</table>\n",
       "</div>"
      ],
      "text/plain": [
       "             jumlah outlier\n",
       "Rooms                    19\n",
       "Price                    39\n",
       "Distance                 81\n",
       "Landsize                125\n",
       "Bedroom2                 19\n",
       "BuildingArea             20"
      ]
     },
     "execution_count": 18,
     "metadata": {},
     "output_type": "execute_result"
    }
   ],
   "source": [
    "#cek outlier\n",
    "kolom=['Rooms','Price','Distance','Landsize','Bedroom2','BuildingArea']\n",
    "kolom_out=[]\n",
    "for i in kolom:\n",
    "    q1=df[i].describe()['25%']\n",
    "    q3=df[i].describe()['75%']\n",
    "    iqr=q3-q1\n",
    "    out1=q3+1.5*iqr\n",
    "    out2=q1-1.5*iqr\n",
    "    index_out=(df.loc[(df[i]>out1)|(df[i]<out2)]).index\n",
    "    n_out=df.loc[index_out][i].count()\n",
    "    kolom_out.append(f'{n_out}')\n",
    "    \n",
    "pd.DataFrame({'jumlah outlier':kolom_out},index=kolom)"
   ]
  },
  {
   "cell_type": "markdown",
   "metadata": {},
   "source": [
    "Diperoleh jumlah outlier dari masing-masing data. Berdasarkan jumlah outlier dari masing-masing data, diperoleh beberapa data outlier signifikan, antara lain:\n",
    "* Distance (81)\n",
    "* Landsize (125)\n",
    "\n",
    "Maka dari itu perlu dilakukan pengecekan lebih lanjut terhadap data outlier dari masing-masing kolom\n",
    "**bisa cek masing-masing boxplot**"
   ]
  },
  {
   "cell_type": "markdown",
   "metadata": {},
   "source": [
    "Kita perlu melakukan pengecekan distribusi data untuk mengetahui jenis metode yang diperlukan dalam analisis data"
   ]
  },
  {
   "cell_type": "code",
   "execution_count": 19,
   "metadata": {
    "ExecuteTime": {
     "end_time": "2022-02-21T04:45:33.639760Z",
     "start_time": "2022-02-21T04:45:33.625763Z"
    }
   },
   "outputs": [
    {
     "data": {
      "text/html": [
       "<div>\n",
       "<style scoped>\n",
       "    .dataframe tbody tr th:only-of-type {\n",
       "        vertical-align: middle;\n",
       "    }\n",
       "\n",
       "    .dataframe tbody tr th {\n",
       "        vertical-align: top;\n",
       "    }\n",
       "\n",
       "    .dataframe thead th {\n",
       "        text-align: right;\n",
       "    }\n",
       "</style>\n",
       "<table border=\"1\" class=\"dataframe\">\n",
       "  <thead>\n",
       "    <tr style=\"text-align: right;\">\n",
       "      <th></th>\n",
       "      <th>distribusi</th>\n",
       "    </tr>\n",
       "  </thead>\n",
       "  <tbody>\n",
       "    <tr>\n",
       "      <th>Rooms</th>\n",
       "      <td>tidak normal</td>\n",
       "    </tr>\n",
       "    <tr>\n",
       "      <th>Price</th>\n",
       "      <td>tidak normal</td>\n",
       "    </tr>\n",
       "    <tr>\n",
       "      <th>Distance</th>\n",
       "      <td>tidak normal</td>\n",
       "    </tr>\n",
       "    <tr>\n",
       "      <th>Landsize</th>\n",
       "      <td>tidak normal</td>\n",
       "    </tr>\n",
       "    <tr>\n",
       "      <th>Bedroom2</th>\n",
       "      <td>tidak normal</td>\n",
       "    </tr>\n",
       "    <tr>\n",
       "      <th>BuildingArea</th>\n",
       "      <td>tidak normal</td>\n",
       "    </tr>\n",
       "  </tbody>\n",
       "</table>\n",
       "</div>"
      ],
      "text/plain": [
       "                distribusi\n",
       "Rooms         tidak normal\n",
       "Price         tidak normal\n",
       "Distance      tidak normal\n",
       "Landsize      tidak normal\n",
       "Bedroom2      tidak normal\n",
       "BuildingArea  tidak normal"
      ]
     },
     "execution_count": 19,
     "metadata": {},
     "output_type": "execute_result"
    }
   ],
   "source": [
    "# cek distribusi data\n",
    "kolom=['Rooms','Price','Distance','Landsize','Bedroom2','BuildingArea',]\n",
    "distribusi=[]\n",
    "for i in kolom:\n",
    "    stats, pval=shapiro(df[i])\n",
    "    if pval>0.05:\n",
    "        distribusi.append('normal')\n",
    "    else:\n",
    "        distribusi.append('tidak normal')\n",
    "        \n",
    "pd.DataFrame({'distribusi':distribusi},index=kolom)"
   ]
  },
  {
   "cell_type": "markdown",
   "metadata": {
    "ExecuteTime": {
     "end_time": "2021-12-02T18:49:07.524615Z",
     "start_time": "2021-12-02T18:49:07.500609Z"
    }
   },
   "source": [
    "Seluruh data memiliki distribusi tidak normal, sehingga dapat dilakukan uji non parameterik menggunakan median dari data"
   ]
  },
  {
   "cell_type": "markdown",
   "metadata": {},
   "source": [
    "Kita dapat mengecek korelasi (menggunakan spearman karena data non parametrik) dari tiap data untuk mengetahui hubungan antara data, dalam kasus ini adalah data setiap kolom dengan price"
   ]
  },
  {
   "cell_type": "code",
   "execution_count": 20,
   "metadata": {
    "ExecuteTime": {
     "end_time": "2022-02-21T04:45:34.035790Z",
     "start_time": "2022-02-21T04:45:33.640760Z"
    }
   },
   "outputs": [
    {
     "data": {
      "text/plain": [
       "<AxesSubplot:>"
      ]
     },
     "execution_count": 20,
     "metadata": {},
     "output_type": "execute_result"
    },
    {
     "data": {
      "image/png": "[encoded data removed]",
      "text/plain": [
       "<Figure size 504x360 with 2 Axes>"
      ]
     },
     "metadata": {
      "needs_background": "light"
     },
     "output_type": "display_data"
    }
   ],
   "source": [
    "mask=np.triu(np.ones_like(df.corr(method = 'spearman'), dtype=np.bool_))\n",
    "\n",
    "plt.figure(figsize=(7,5))\n",
    "sns.heatmap(df.corr(method = 'spearman'), mask=mask, cmap='spring',annot=True, vmin=-1, vmax=1)"
   ]
  },
  {
   "cell_type": "markdown",
   "metadata": {},
   "source": [
    "Dari hasil korelasi terhadap price, diperoleh bahwa:\n",
    "* Korelasi dengan data price bersifat positif\n",
    "* Semakin besar price, semakin besar/tinggi/banyak juga data yang berkorelasi\n",
    "    * Kesimpulan nilai korelasi:\n",
    "        * Price & Rooms = 0.71 (korelasi kuat)\n",
    "        * Price & Distance = 0.041 (korelasi lemah)\n",
    "        * Price & Landsize = 0.36 (korelasi sedang)\n",
    "        * Price & Bedrrom2 = 0.69 (korelasi sedang)\n",
    "        * Price & BuildingArea = 0.71 (korelasi kuat)"
   ]
  },
  {
   "cell_type": "markdown",
   "metadata": {},
   "source": [
    "## Data Kuantitatif"
   ]
  },
  {
   "cell_type": "code",
   "execution_count": 21,
   "metadata": {
    "ExecuteTime": {
     "end_time": "2022-02-21T04:45:34.050795Z",
     "start_time": "2022-02-21T04:45:34.037790Z"
    }
   },
   "outputs": [
    {
     "name": "stdout",
     "output_type": "stream",
     "text": [
      "1.1515414167716243e-122\n",
      "Tolak Ho, Setidak satu pasang rumah tinggal dengan jumlah room tertentu berbeda\n"
     ]
    }
   ],
   "source": [
    "# ROOM DENGAN PRICE\n",
    "#Ho: Harga setiap rumah dengan jumlah room tertentu adalah sama\n",
    "#H1: Setidak satu pasang harga rumah dengan jumlah room tertentu berbeda\n",
    "\n",
    "stats,pval=kruskal(*[df[df['Rooms']==i]['Price'] for i in df['Rooms'].unique()])\n",
    "print(pval)   \n",
    "if pval<=0.05:\n",
    "    print('Tolak Ho, Setidak satu pasang rumah tinggal dengan jumlah room tertentu berbeda')\n",
    "else:\n",
    "    print('Terima Ho,Harga setiap rumah dengan jumlah room tertentu adalah sama')    "
   ]
  },
  {
   "cell_type": "code",
   "execution_count": 22,
   "metadata": {
    "ExecuteTime": {
     "end_time": "2022-02-21T04:45:34.066795Z",
     "start_time": "2022-02-21T04:45:34.051794Z"
    }
   },
   "outputs": [
    {
     "data": {
      "text/html": [
       "<div>\n",
       "<style scoped>\n",
       "    .dataframe tbody tr th:only-of-type {\n",
       "        vertical-align: middle;\n",
       "    }\n",
       "\n",
       "    .dataframe tbody tr th {\n",
       "        vertical-align: top;\n",
       "    }\n",
       "\n",
       "    .dataframe thead th {\n",
       "        text-align: right;\n",
       "    }\n",
       "</style>\n",
       "<table border=\"1\" class=\"dataframe\">\n",
       "  <thead>\n",
       "    <tr style=\"text-align: right;\">\n",
       "      <th></th>\n",
       "      <th>Rooms</th>\n",
       "      <th>Price</th>\n",
       "    </tr>\n",
       "  </thead>\n",
       "  <tbody>\n",
       "    <tr>\n",
       "      <th>0</th>\n",
       "      <td>1</td>\n",
       "      <td>423750.0</td>\n",
       "    </tr>\n",
       "    <tr>\n",
       "      <th>1</th>\n",
       "      <td>2</td>\n",
       "      <td>730000.0</td>\n",
       "    </tr>\n",
       "    <tr>\n",
       "      <th>2</th>\n",
       "      <td>3</td>\n",
       "      <td>1220000.0</td>\n",
       "    </tr>\n",
       "    <tr>\n",
       "      <th>3</th>\n",
       "      <td>4</td>\n",
       "      <td>1608000.0</td>\n",
       "    </tr>\n",
       "    <tr>\n",
       "      <th>4</th>\n",
       "      <td>5</td>\n",
       "      <td>1550000.0</td>\n",
       "    </tr>\n",
       "    <tr>\n",
       "      <th>5</th>\n",
       "      <td>6</td>\n",
       "      <td>2025000.0</td>\n",
       "    </tr>\n",
       "  </tbody>\n",
       "</table>\n",
       "</div>"
      ],
      "text/plain": [
       "   Rooms      Price\n",
       "0      1   423750.0\n",
       "1      2   730000.0\n",
       "2      3  1220000.0\n",
       "3      4  1608000.0\n",
       "4      5  1550000.0\n",
       "5      6  2025000.0"
      ]
     },
     "execution_count": 22,
     "metadata": {},
     "output_type": "execute_result"
    }
   ],
   "source": [
    "# harga rumah berdasarkan jumlah ruangan\n",
    "rooms_price=df.groupby('Rooms').median()[['Price']].reset_index()\n",
    "rooms_price"
   ]
  },
  {
   "cell_type": "code",
   "execution_count": 23,
   "metadata": {
    "ExecuteTime": {
     "end_time": "2022-02-21T04:45:34.337816Z",
     "start_time": "2022-02-21T04:45:34.070794Z"
    }
   },
   "outputs": [
    {
     "data": {
      "image/png": "[encoded data removed]",
      "text/plain": [
       "<Figure size 432x288 with 1 Axes>"
      ]
     },
     "metadata": {
      "needs_background": "light"
     },
     "output_type": "display_data"
    }
   ],
   "source": [
    "sns.boxplot(data=df,y='Price',x='Rooms') \n",
    "plt.title('Harga rumah berdasarkan jumlah ruangan')\n",
    "plt.xlabel('Rooms', size=12)\n",
    "plt.ylabel('Price', size=12)\n",
    "plt.tight_layout()\n",
    "plt.show()"
   ]
  },
  {
   "cell_type": "code",
   "execution_count": 24,
   "metadata": {
    "ExecuteTime": {
     "end_time": "2022-02-21T04:45:34.369815Z",
     "start_time": "2022-02-21T04:45:34.340817Z"
    }
   },
   "outputs": [
    {
     "data": {
      "text/html": [
       "<div>\n",
       "<style scoped>\n",
       "    .dataframe tbody tr th:only-of-type {\n",
       "        vertical-align: middle;\n",
       "    }\n",
       "\n",
       "    .dataframe tbody tr th {\n",
       "        vertical-align: top;\n",
       "    }\n",
       "\n",
       "    .dataframe thead th {\n",
       "        text-align: right;\n",
       "    }\n",
       "</style>\n",
       "<table border=\"1\" class=\"dataframe\">\n",
       "  <thead>\n",
       "    <tr style=\"text-align: right;\">\n",
       "      <th></th>\n",
       "      <th>Suburb</th>\n",
       "      <th>Address</th>\n",
       "      <th>Type</th>\n",
       "      <th>Price</th>\n",
       "      <th>Distance</th>\n",
       "      <th>Landsize</th>\n",
       "      <th>Bedroom2</th>\n",
       "      <th>BuildingArea</th>\n",
       "      <th>Regionname</th>\n",
       "      <th>Date</th>\n",
       "    </tr>\n",
       "    <tr>\n",
       "      <th>Rooms</th>\n",
       "      <th></th>\n",
       "      <th></th>\n",
       "      <th></th>\n",
       "      <th></th>\n",
       "      <th></th>\n",
       "      <th></th>\n",
       "      <th></th>\n",
       "      <th></th>\n",
       "      <th></th>\n",
       "      <th></th>\n",
       "    </tr>\n",
       "  </thead>\n",
       "  <tbody>\n",
       "    <tr>\n",
       "      <th>1</th>\n",
       "      <td>146</td>\n",
       "      <td>146</td>\n",
       "      <td>146</td>\n",
       "      <td>146</td>\n",
       "      <td>146</td>\n",
       "      <td>146</td>\n",
       "      <td>146</td>\n",
       "      <td>146</td>\n",
       "      <td>146</td>\n",
       "      <td>146</td>\n",
       "    </tr>\n",
       "    <tr>\n",
       "      <th>2</th>\n",
       "      <td>525</td>\n",
       "      <td>525</td>\n",
       "      <td>525</td>\n",
       "      <td>525</td>\n",
       "      <td>525</td>\n",
       "      <td>525</td>\n",
       "      <td>525</td>\n",
       "      <td>525</td>\n",
       "      <td>525</td>\n",
       "      <td>525</td>\n",
       "    </tr>\n",
       "    <tr>\n",
       "      <th>3</th>\n",
       "      <td>341</td>\n",
       "      <td>341</td>\n",
       "      <td>341</td>\n",
       "      <td>341</td>\n",
       "      <td>341</td>\n",
       "      <td>341</td>\n",
       "      <td>341</td>\n",
       "      <td>341</td>\n",
       "      <td>341</td>\n",
       "      <td>341</td>\n",
       "    </tr>\n",
       "    <tr>\n",
       "      <th>4</th>\n",
       "      <td>98</td>\n",
       "      <td>98</td>\n",
       "      <td>98</td>\n",
       "      <td>98</td>\n",
       "      <td>98</td>\n",
       "      <td>98</td>\n",
       "      <td>98</td>\n",
       "      <td>98</td>\n",
       "      <td>98</td>\n",
       "      <td>98</td>\n",
       "    </tr>\n",
       "    <tr>\n",
       "      <th>5</th>\n",
       "      <td>15</td>\n",
       "      <td>15</td>\n",
       "      <td>15</td>\n",
       "      <td>15</td>\n",
       "      <td>15</td>\n",
       "      <td>15</td>\n",
       "      <td>15</td>\n",
       "      <td>15</td>\n",
       "      <td>15</td>\n",
       "      <td>15</td>\n",
       "    </tr>\n",
       "    <tr>\n",
       "      <th>6</th>\n",
       "      <td>4</td>\n",
       "      <td>4</td>\n",
       "      <td>4</td>\n",
       "      <td>4</td>\n",
       "      <td>4</td>\n",
       "      <td>4</td>\n",
       "      <td>4</td>\n",
       "      <td>4</td>\n",
       "      <td>4</td>\n",
       "      <td>4</td>\n",
       "    </tr>\n",
       "  </tbody>\n",
       "</table>\n",
       "</div>"
      ],
      "text/plain": [
       "       Suburb  Address  Type  Price  Distance  Landsize  Bedroom2  \\\n",
       "Rooms                                                               \n",
       "1         146      146   146    146       146       146       146   \n",
       "2         525      525   525    525       525       525       525   \n",
       "3         341      341   341    341       341       341       341   \n",
       "4          98       98    98     98        98        98        98   \n",
       "5          15       15    15     15        15        15        15   \n",
       "6           4        4     4      4         4         4         4   \n",
       "\n",
       "       BuildingArea  Regionname  Date  \n",
       "Rooms                                  \n",
       "1               146         146   146  \n",
       "2               525         525   525  \n",
       "3               341         341   341  \n",
       "4                98          98    98  \n",
       "5                15          15    15  \n",
       "6                 4           4     4  "
      ]
     },
     "execution_count": 24,
     "metadata": {},
     "output_type": "execute_result"
    }
   ],
   "source": [
    "df.groupby('Rooms').count()"
   ]
  },
  {
   "cell_type": "markdown",
   "metadata": {},
   "source": [
    "Berdasarkan visualisasi, diperoleh harga rumah dengan 5 ruangan  lebih rendah dari rumah dengan 4 ruangan. Hal ini dikarenakan:\n",
    "* Data rumah dengan 4 ruangan memiliki data oulier > q3, sehingga membuat nilai median lebih besar\n",
    "* Jumlah data rumah dengan 4 ruangan lebih banyak daripada rumah dengan 5 ruangan\n"
   ]
  },
  {
   "cell_type": "code",
   "execution_count": 25,
   "metadata": {
    "ExecuteTime": {
     "end_time": "2022-02-21T04:45:34.400817Z",
     "start_time": "2022-02-21T04:45:34.371816Z"
    }
   },
   "outputs": [
    {
     "name": "stdout",
     "output_type": "stream",
     "text": [
      "2.975841031831243e-24\n",
      "Tolak Ho, Setidak satu pasang harga rumah dengan jarak tertentu tertentu berbeda\n"
     ]
    }
   ],
   "source": [
    "# DISTANCE DENGAN PRICE\n",
    "#Ho: Harga setiap rumah dengan jarak tertentu adalah sama\n",
    "#H1: Setidak satu pasang harga rumah dengan jarak tertentu tertentu berbeda\n",
    "\n",
    "stats,pval=kruskal(*[df[df['Distance']==i]['Price'] for i in df['Distance'].unique()])\n",
    "print(pval)   \n",
    "if pval<=0.05:\n",
    "    print('Tolak Ho, Setidak satu pasang harga rumah dengan jarak tertentu tertentu berbeda')\n",
    "else:\n",
    "    print('Terima Ho,Harga setiap rumah dengan jarak tertentu adalah sama')    "
   ]
  },
  {
   "cell_type": "code",
   "execution_count": 26,
   "metadata": {
    "ExecuteTime": {
     "end_time": "2022-02-21T04:45:34.431820Z",
     "start_time": "2022-02-21T04:45:34.401817Z"
    }
   },
   "outputs": [
    {
     "data": {
      "text/html": [
       "<div>\n",
       "<style scoped>\n",
       "    .dataframe tbody tr th:only-of-type {\n",
       "        vertical-align: middle;\n",
       "    }\n",
       "\n",
       "    .dataframe tbody tr th {\n",
       "        vertical-align: top;\n",
       "    }\n",
       "\n",
       "    .dataframe thead th {\n",
       "        text-align: right;\n",
       "    }\n",
       "</style>\n",
       "<table border=\"1\" class=\"dataframe\">\n",
       "  <thead>\n",
       "    <tr style=\"text-align: right;\">\n",
       "      <th></th>\n",
       "      <th>Price</th>\n",
       "    </tr>\n",
       "    <tr>\n",
       "      <th>Distance</th>\n",
       "      <th></th>\n",
       "    </tr>\n",
       "  </thead>\n",
       "  <tbody>\n",
       "    <tr>\n",
       "      <th>0.0</th>\n",
       "      <td>642500.0</td>\n",
       "    </tr>\n",
       "    <tr>\n",
       "      <th>0.7</th>\n",
       "      <td>600000.0</td>\n",
       "    </tr>\n",
       "    <tr>\n",
       "      <th>1.2</th>\n",
       "      <td>595000.0</td>\n",
       "    </tr>\n",
       "    <tr>\n",
       "      <th>1.3</th>\n",
       "      <td>1300000.0</td>\n",
       "    </tr>\n",
       "    <tr>\n",
       "      <th>1.5</th>\n",
       "      <td>872000.0</td>\n",
       "    </tr>\n",
       "    <tr>\n",
       "      <th>1.6</th>\n",
       "      <td>920000.0</td>\n",
       "    </tr>\n",
       "    <tr>\n",
       "      <th>1.8</th>\n",
       "      <td>928000.0</td>\n",
       "    </tr>\n",
       "    <tr>\n",
       "      <th>1.9</th>\n",
       "      <td>995000.0</td>\n",
       "    </tr>\n",
       "    <tr>\n",
       "      <th>2.3</th>\n",
       "      <td>655250.0</td>\n",
       "    </tr>\n",
       "    <tr>\n",
       "      <th>2.6</th>\n",
       "      <td>1135000.0</td>\n",
       "    </tr>\n",
       "    <tr>\n",
       "      <th>2.7</th>\n",
       "      <td>910000.0</td>\n",
       "    </tr>\n",
       "    <tr>\n",
       "      <th>2.8</th>\n",
       "      <td>527500.0</td>\n",
       "    </tr>\n",
       "    <tr>\n",
       "      <th>3.1</th>\n",
       "      <td>792000.0</td>\n",
       "    </tr>\n",
       "    <tr>\n",
       "      <th>3.2</th>\n",
       "      <td>1315500.0</td>\n",
       "    </tr>\n",
       "    <tr>\n",
       "      <th>3.3</th>\n",
       "      <td>775000.0</td>\n",
       "    </tr>\n",
       "    <tr>\n",
       "      <th>3.4</th>\n",
       "      <td>850000.0</td>\n",
       "    </tr>\n",
       "    <tr>\n",
       "      <th>3.5</th>\n",
       "      <td>1530000.0</td>\n",
       "    </tr>\n",
       "    <tr>\n",
       "      <th>3.7</th>\n",
       "      <td>1804000.0</td>\n",
       "    </tr>\n",
       "    <tr>\n",
       "      <th>3.8</th>\n",
       "      <td>1100500.0</td>\n",
       "    </tr>\n",
       "    <tr>\n",
       "      <th>4.2</th>\n",
       "      <td>812750.0</td>\n",
       "    </tr>\n",
       "    <tr>\n",
       "      <th>4.3</th>\n",
       "      <td>990000.0</td>\n",
       "    </tr>\n",
       "    <tr>\n",
       "      <th>4.4</th>\n",
       "      <td>862750.0</td>\n",
       "    </tr>\n",
       "    <tr>\n",
       "      <th>5.3</th>\n",
       "      <td>1100000.0</td>\n",
       "    </tr>\n",
       "    <tr>\n",
       "      <th>5.9</th>\n",
       "      <td>995000.0</td>\n",
       "    </tr>\n",
       "    <tr>\n",
       "      <th>8.7</th>\n",
       "      <td>820000.0</td>\n",
       "    </tr>\n",
       "  </tbody>\n",
       "</table>\n",
       "</div>"
      ],
      "text/plain": [
       "              Price\n",
       "Distance           \n",
       "0.0        642500.0\n",
       "0.7        600000.0\n",
       "1.2        595000.0\n",
       "1.3       1300000.0\n",
       "1.5        872000.0\n",
       "1.6        920000.0\n",
       "1.8        928000.0\n",
       "1.9        995000.0\n",
       "2.3        655250.0\n",
       "2.6       1135000.0\n",
       "2.7        910000.0\n",
       "2.8        527500.0\n",
       "3.1        792000.0\n",
       "3.2       1315500.0\n",
       "3.3        775000.0\n",
       "3.4        850000.0\n",
       "3.5       1530000.0\n",
       "3.7       1804000.0\n",
       "3.8       1100500.0\n",
       "4.2        812750.0\n",
       "4.3        990000.0\n",
       "4.4        862750.0\n",
       "5.3       1100000.0\n",
       "5.9        995000.0\n",
       "8.7        820000.0"
      ]
     },
     "execution_count": 26,
     "metadata": {},
     "output_type": "execute_result"
    }
   ],
   "source": [
    "df.groupby('Distance').median()[['Price']]"
   ]
  },
  {
   "cell_type": "code",
   "execution_count": 27,
   "metadata": {
    "ExecuteTime": {
     "end_time": "2022-02-21T04:45:35.315888Z",
     "start_time": "2022-02-21T04:45:34.432820Z"
    }
   },
   "outputs": [
    {
     "data": {
      "image/png": "[encoded data removed]",
      "text/plain": [
       "<Figure size 507.375x360 with 1 Axes>"
      ]
     },
     "metadata": {
      "needs_background": "light"
     },
     "output_type": "display_data"
    }
   ],
   "source": [
    "sns.relplot(x='Price', y='Distance', data=df, kind='scatter', size='Price', hue='Regionname')\n",
    "plt.title('Harga rumah berdasarkan jarak')\n",
    "plt.show()"
   ]
  },
  {
   "cell_type": "markdown",
   "metadata": {
    "ExecuteTime": {
     "end_time": "2022-02-18T08:21:18.105849Z",
     "start_time": "2022-02-18T08:21:17.712478Z"
    }
   },
   "source": [
    "Berdasarkan visualisasi data diperoleh bahwa semakin dekat jarak properti dengan CBD, maka semakin mahal pula harga properti."
   ]
  },
  {
   "cell_type": "code",
   "execution_count": 28,
   "metadata": {
    "ExecuteTime": {
     "end_time": "2022-02-21T04:45:35.331889Z",
     "start_time": "2022-02-21T04:45:35.316887Z"
    }
   },
   "outputs": [
    {
     "name": "stdout",
     "output_type": "stream",
     "text": [
      "5.23778196110766e-113\n",
      "Tolak Ho, Setidaknya satu pasang harga rumah dengan jumlah bedroom tertentu tertentu berbeda\n"
     ]
    }
   ],
   "source": [
    "# BEDROOM2 DENGAN PRICE\n",
    "#Ho: Harga setiap rumah dengan jumlah bedroom tertentu adalah sama\n",
    "#H1: Setidaknya satu pasang harga rumah dengan jumlah bedroom tertentu tertentu berbeda\n",
    "\n",
    "stats,pval=kruskal(*[df[df['Bedroom2']==i]['Price'] for i in df['Bedroom2'].unique()])\n",
    "print(pval)   \n",
    "if pval<=0.05:\n",
    "    print('Tolak Ho, Setidaknya satu pasang harga rumah dengan jumlah bedroom tertentu tertentu berbeda')\n",
    "else:\n",
    "    print('Terima Ho,Harga setiap rumah dengan jumlah bedroom tertentu adalah sama')    "
   ]
  },
  {
   "cell_type": "code",
   "execution_count": 29,
   "metadata": {
    "ExecuteTime": {
     "end_time": "2022-02-21T04:45:35.363890Z",
     "start_time": "2022-02-21T04:45:35.332890Z"
    }
   },
   "outputs": [
    {
     "data": {
      "text/html": [
       "<div>\n",
       "<style scoped>\n",
       "    .dataframe tbody tr th:only-of-type {\n",
       "        vertical-align: middle;\n",
       "    }\n",
       "\n",
       "    .dataframe tbody tr th {\n",
       "        vertical-align: top;\n",
       "    }\n",
       "\n",
       "    .dataframe thead th {\n",
       "        text-align: right;\n",
       "    }\n",
       "</style>\n",
       "<table border=\"1\" class=\"dataframe\">\n",
       "  <thead>\n",
       "    <tr style=\"text-align: right;\">\n",
       "      <th></th>\n",
       "      <th>Rooms</th>\n",
       "      <th>Price</th>\n",
       "      <th>Distance</th>\n",
       "      <th>Landsize</th>\n",
       "      <th>BuildingArea</th>\n",
       "    </tr>\n",
       "    <tr>\n",
       "      <th>Bedroom2</th>\n",
       "      <th></th>\n",
       "      <th></th>\n",
       "      <th></th>\n",
       "      <th></th>\n",
       "      <th></th>\n",
       "    </tr>\n",
       "  </thead>\n",
       "  <tbody>\n",
       "    <tr>\n",
       "      <th>0.0</th>\n",
       "      <td>2</td>\n",
       "      <td>703500.0</td>\n",
       "      <td>2.1</td>\n",
       "      <td>0.0</td>\n",
       "      <td>70.5</td>\n",
       "    </tr>\n",
       "    <tr>\n",
       "      <th>1.0</th>\n",
       "      <td>1</td>\n",
       "      <td>425000.0</td>\n",
       "      <td>3.3</td>\n",
       "      <td>0.0</td>\n",
       "      <td>78.0</td>\n",
       "    </tr>\n",
       "    <tr>\n",
       "      <th>2.0</th>\n",
       "      <td>2</td>\n",
       "      <td>750000.0</td>\n",
       "      <td>3.3</td>\n",
       "      <td>103.0</td>\n",
       "      <td>78.0</td>\n",
       "    </tr>\n",
       "    <tr>\n",
       "      <th>3.0</th>\n",
       "      <td>3</td>\n",
       "      <td>1202500.0</td>\n",
       "      <td>3.8</td>\n",
       "      <td>216.5</td>\n",
       "      <td>145.0</td>\n",
       "    </tr>\n",
       "    <tr>\n",
       "      <th>4.0</th>\n",
       "      <td>4</td>\n",
       "      <td>1581000.0</td>\n",
       "      <td>3.8</td>\n",
       "      <td>298.0</td>\n",
       "      <td>145.0</td>\n",
       "    </tr>\n",
       "    <tr>\n",
       "      <th>5.0</th>\n",
       "      <td>5</td>\n",
       "      <td>1585000.0</td>\n",
       "      <td>7.3</td>\n",
       "      <td>457.0</td>\n",
       "      <td>186.5</td>\n",
       "    </tr>\n",
       "    <tr>\n",
       "      <th>6.0</th>\n",
       "      <td>6</td>\n",
       "      <td>2250000.0</td>\n",
       "      <td>5.9</td>\n",
       "      <td>1012.0</td>\n",
       "      <td>435.0</td>\n",
       "    </tr>\n",
       "  </tbody>\n",
       "</table>\n",
       "</div>"
      ],
      "text/plain": [
       "          Rooms      Price  Distance  Landsize  BuildingArea\n",
       "Bedroom2                                                    \n",
       "0.0           2   703500.0       2.1       0.0          70.5\n",
       "1.0           1   425000.0       3.3       0.0          78.0\n",
       "2.0           2   750000.0       3.3     103.0          78.0\n",
       "3.0           3  1202500.0       3.8     216.5         145.0\n",
       "4.0           4  1581000.0       3.8     298.0         145.0\n",
       "5.0           5  1585000.0       7.3     457.0         186.5\n",
       "6.0           6  2250000.0       5.9    1012.0         435.0"
      ]
     },
     "execution_count": 29,
     "metadata": {},
     "output_type": "execute_result"
    }
   ],
   "source": [
    "df.groupby('Bedroom2').median('Price')"
   ]
  },
  {
   "cell_type": "code",
   "execution_count": 30,
   "metadata": {
    "ExecuteTime": {
     "end_time": "2022-02-21T04:45:35.651915Z",
     "start_time": "2022-02-21T04:45:35.365892Z"
    }
   },
   "outputs": [
    {
     "data": {
      "image/png": "[encoded data removed]",
      "text/plain": [
       "<Figure size 576x288 with 1 Axes>"
      ]
     },
     "metadata": {
      "needs_background": "light"
     },
     "output_type": "display_data"
    }
   ],
   "source": [
    "plt.figure(figsize=(8,4))\n",
    "sns.boxplot(data=df,y='Price',x='Bedroom2') \n",
    "plt.xlabel('Bedroom2', size=12)\n",
    "plt.ylabel('Price', size=12)\n",
    "plt.title ('Perbandingan harga rumah berdasarkan jumlah bedroom', size=12)\n",
    "plt.tight_layout()\n",
    "plt.show()"
   ]
  },
  {
   "cell_type": "code",
   "execution_count": 31,
   "metadata": {
    "ExecuteTime": {
     "end_time": "2022-02-21T04:45:35.683915Z",
     "start_time": "2022-02-21T04:45:35.653915Z"
    }
   },
   "outputs": [
    {
     "data": {
      "text/html": [
       "<div>\n",
       "<style scoped>\n",
       "    .dataframe tbody tr th:only-of-type {\n",
       "        vertical-align: middle;\n",
       "    }\n",
       "\n",
       "    .dataframe tbody tr th {\n",
       "        vertical-align: top;\n",
       "    }\n",
       "\n",
       "    .dataframe thead th {\n",
       "        text-align: right;\n",
       "    }\n",
       "</style>\n",
       "<table border=\"1\" class=\"dataframe\">\n",
       "  <thead>\n",
       "    <tr style=\"text-align: right;\">\n",
       "      <th></th>\n",
       "      <th>Suburb</th>\n",
       "      <th>Address</th>\n",
       "      <th>Rooms</th>\n",
       "      <th>Type</th>\n",
       "      <th>Price</th>\n",
       "      <th>Distance</th>\n",
       "      <th>Landsize</th>\n",
       "      <th>BuildingArea</th>\n",
       "      <th>Regionname</th>\n",
       "      <th>Date</th>\n",
       "    </tr>\n",
       "    <tr>\n",
       "      <th>Bedroom2</th>\n",
       "      <th></th>\n",
       "      <th></th>\n",
       "      <th></th>\n",
       "      <th></th>\n",
       "      <th></th>\n",
       "      <th></th>\n",
       "      <th></th>\n",
       "      <th></th>\n",
       "      <th></th>\n",
       "      <th></th>\n",
       "    </tr>\n",
       "  </thead>\n",
       "  <tbody>\n",
       "    <tr>\n",
       "      <th>0.0</th>\n",
       "      <td>2</td>\n",
       "      <td>2</td>\n",
       "      <td>2</td>\n",
       "      <td>2</td>\n",
       "      <td>2</td>\n",
       "      <td>2</td>\n",
       "      <td>2</td>\n",
       "      <td>2</td>\n",
       "      <td>2</td>\n",
       "      <td>2</td>\n",
       "    </tr>\n",
       "    <tr>\n",
       "      <th>1.0</th>\n",
       "      <td>147</td>\n",
       "      <td>147</td>\n",
       "      <td>147</td>\n",
       "      <td>147</td>\n",
       "      <td>147</td>\n",
       "      <td>147</td>\n",
       "      <td>147</td>\n",
       "      <td>147</td>\n",
       "      <td>147</td>\n",
       "      <td>147</td>\n",
       "    </tr>\n",
       "    <tr>\n",
       "      <th>2.0</th>\n",
       "      <td>539</td>\n",
       "      <td>539</td>\n",
       "      <td>539</td>\n",
       "      <td>539</td>\n",
       "      <td>539</td>\n",
       "      <td>539</td>\n",
       "      <td>539</td>\n",
       "      <td>539</td>\n",
       "      <td>539</td>\n",
       "      <td>539</td>\n",
       "    </tr>\n",
       "    <tr>\n",
       "      <th>3.0</th>\n",
       "      <td>330</td>\n",
       "      <td>330</td>\n",
       "      <td>330</td>\n",
       "      <td>330</td>\n",
       "      <td>330</td>\n",
       "      <td>330</td>\n",
       "      <td>330</td>\n",
       "      <td>330</td>\n",
       "      <td>330</td>\n",
       "      <td>330</td>\n",
       "    </tr>\n",
       "    <tr>\n",
       "      <th>4.0</th>\n",
       "      <td>94</td>\n",
       "      <td>94</td>\n",
       "      <td>94</td>\n",
       "      <td>94</td>\n",
       "      <td>94</td>\n",
       "      <td>94</td>\n",
       "      <td>94</td>\n",
       "      <td>94</td>\n",
       "      <td>94</td>\n",
       "      <td>94</td>\n",
       "    </tr>\n",
       "    <tr>\n",
       "      <th>5.0</th>\n",
       "      <td>14</td>\n",
       "      <td>14</td>\n",
       "      <td>14</td>\n",
       "      <td>14</td>\n",
       "      <td>14</td>\n",
       "      <td>14</td>\n",
       "      <td>14</td>\n",
       "      <td>14</td>\n",
       "      <td>14</td>\n",
       "      <td>14</td>\n",
       "    </tr>\n",
       "    <tr>\n",
       "      <th>6.0</th>\n",
       "      <td>3</td>\n",
       "      <td>3</td>\n",
       "      <td>3</td>\n",
       "      <td>3</td>\n",
       "      <td>3</td>\n",
       "      <td>3</td>\n",
       "      <td>3</td>\n",
       "      <td>3</td>\n",
       "      <td>3</td>\n",
       "      <td>3</td>\n",
       "    </tr>\n",
       "  </tbody>\n",
       "</table>\n",
       "</div>"
      ],
      "text/plain": [
       "          Suburb  Address  Rooms  Type  Price  Distance  Landsize  \\\n",
       "Bedroom2                                                            \n",
       "0.0            2        2      2     2      2         2         2   \n",
       "1.0          147      147    147   147    147       147       147   \n",
       "2.0          539      539    539   539    539       539       539   \n",
       "3.0          330      330    330   330    330       330       330   \n",
       "4.0           94       94     94    94     94        94        94   \n",
       "5.0           14       14     14    14     14        14        14   \n",
       "6.0            3        3      3     3      3         3         3   \n",
       "\n",
       "          BuildingArea  Regionname  Date  \n",
       "Bedroom2                                  \n",
       "0.0                  2           2     2  \n",
       "1.0                147         147   147  \n",
       "2.0                539         539   539  \n",
       "3.0                330         330   330  \n",
       "4.0                 94          94    94  \n",
       "5.0                 14          14    14  \n",
       "6.0                  3           3     3  "
      ]
     },
     "execution_count": 31,
     "metadata": {},
     "output_type": "execute_result"
    }
   ],
   "source": [
    "df.groupby('Bedroom2').count()"
   ]
  },
  {
   "cell_type": "markdown",
   "metadata": {
    "ExecuteTime": {
     "end_time": "2021-12-02T19:30:42.538657Z",
     "start_time": "2021-12-02T19:30:42.521678Z"
    }
   },
   "source": [
    "Berdasarkan visualisasi, diperoleh harga rumah dengan 0 bedroom  lebih tinggi dari rumah dengan 1 bedroom . Hal ini dikarenakan:\n",
    "* Jumlah data rumah dengan 0 bedroom lebih sedikit daripada rumah dengan 1 bedroom\n"
   ]
  },
  {
   "cell_type": "code",
   "execution_count": 32,
   "metadata": {
    "ExecuteTime": {
     "end_time": "2022-02-21T04:45:35.953894Z",
     "start_time": "2022-02-21T04:45:35.685915Z"
    }
   },
   "outputs": [
    {
     "name": "stdout",
     "output_type": "stream",
     "text": [
      "1.1427305211126848e-19\n",
      "Tolak Ho, Setidaknya satu pasang rumah tinggal dengan landsize tertentu tertentu berbeda\n"
     ]
    }
   ],
   "source": [
    "# LANDSIZE DENGAN PRICE\n",
    "#Ho: Harga setiap rumah dengan landsize tertentu adalah sama\n",
    "#H1: Setidaknya satu pasang harga rumah dengan landsize tertentu tertentu berbeda\n",
    "\n",
    "stats,pval=kruskal(*[df[df['Landsize']==i]['Price'] for i in df['Landsize'].unique()])\n",
    "print(pval)   \n",
    "if pval<=0.05:\n",
    "    print('Tolak Ho, Setidaknya satu pasang rumah tinggal dengan landsize tertentu tertentu berbeda')\n",
    "else:\n",
    "    print('Terima Ho,Harga setiap rumah dengan landsize tertentu adalah sama')    "
   ]
  },
  {
   "cell_type": "code",
   "execution_count": 33,
   "metadata": {
    "ExecuteTime": {
     "end_time": "2022-02-21T04:45:35.968895Z",
     "start_time": "2022-02-21T04:45:35.954896Z"
    }
   },
   "outputs": [],
   "source": [
    "#Kategorikan ukuran landsize kedalam klasifikasi berikut\n",
    "#pembagian berdasarkan nilai q1,q2,q3\n",
    "#kecil: <163\n",
    "#sedang: 164-321\n",
    "#besar: >321"
   ]
  },
  {
   "cell_type": "code",
   "execution_count": 34,
   "metadata": {
    "ExecuteTime": {
     "end_time": "2022-02-21T04:45:35.983897Z",
     "start_time": "2022-02-21T04:45:35.969897Z"
    }
   },
   "outputs": [
    {
     "data": {
      "text/plain": [
       "163.0"
      ]
     },
     "execution_count": 34,
     "metadata": {},
     "output_type": "execute_result"
    }
   ],
   "source": [
    "q1=df['Landsize'].describe()['25%']\n",
    "q3=df['Landsize'].describe()['50%']\n",
    "q3"
   ]
  },
  {
   "cell_type": "code",
   "execution_count": 35,
   "metadata": {
    "ExecuteTime": {
     "end_time": "2022-02-21T04:45:36.014899Z",
     "start_time": "2022-02-21T04:45:35.985903Z"
    }
   },
   "outputs": [
    {
     "data": {
      "text/html": [
       "<div>\n",
       "<style scoped>\n",
       "    .dataframe tbody tr th:only-of-type {\n",
       "        vertical-align: middle;\n",
       "    }\n",
       "\n",
       "    .dataframe tbody tr th {\n",
       "        vertical-align: top;\n",
       "    }\n",
       "\n",
       "    .dataframe thead th {\n",
       "        text-align: right;\n",
       "    }\n",
       "</style>\n",
       "<table border=\"1\" class=\"dataframe\">\n",
       "  <thead>\n",
       "    <tr style=\"text-align: right;\">\n",
       "      <th></th>\n",
       "      <th>Landsize</th>\n",
       "      <th>Price</th>\n",
       "    </tr>\n",
       "  </thead>\n",
       "  <tbody>\n",
       "    <tr>\n",
       "      <th>0</th>\n",
       "      <td>Small</td>\n",
       "      <td>680500.0</td>\n",
       "    </tr>\n",
       "    <tr>\n",
       "      <th>1</th>\n",
       "      <td>Medium</td>\n",
       "      <td>888000.0</td>\n",
       "    </tr>\n",
       "    <tr>\n",
       "      <th>2</th>\n",
       "      <td>Large</td>\n",
       "      <td>955000.0</td>\n",
       "    </tr>\n",
       "  </tbody>\n",
       "</table>\n",
       "</div>"
      ],
      "text/plain": [
       "  Landsize     Price\n",
       "0    Small  680500.0\n",
       "1   Medium  888000.0\n",
       "2    Large  955000.0"
      ]
     },
     "execution_count": 35,
     "metadata": {},
     "output_type": "execute_result"
    }
   ],
   "source": [
    "#buat dataframe baru untuk kategori landsize\n",
    "price_land_small=df[df['Landsize']<163].median()['Price']\n",
    "price_land_med=df[(df['Landsize']>164)|df['Landsize']<321].median()['Price']\n",
    "price_land_large=df[df['Landsize']>321].median()['Price']\n",
    "\n",
    "dict1={\n",
    "    'Landsize':['Small','Medium','Large'],\n",
    "    'Price':[price_land_small,price_land_med,price_land_large],\n",
    "}\n",
    "land_price=pd.DataFrame(dict1)\n",
    "land_price"
   ]
  },
  {
   "cell_type": "code",
   "execution_count": 36,
   "metadata": {
    "ExecuteTime": {
     "end_time": "2022-02-21T04:45:36.221914Z",
     "start_time": "2022-02-21T04:45:36.016903Z"
    }
   },
   "outputs": [
    {
     "data": {
      "image/png": "[encoded data removed]",
      "text/plain": [
       "<Figure size 576x432 with 1 Axes>"
      ]
     },
     "metadata": {
      "needs_background": "light"
     },
     "output_type": "display_data"
    }
   ],
   "source": [
    "def addlabel (x,y):\n",
    "     for i in range(len(x)):\n",
    "        plt.text(i,y[i],y[i], ha='center')\n",
    "plt.figure(figsize=(8,6))\n",
    "x=land_price['Landsize']\n",
    "y=land_price['Price']\n",
    "plt.bar(x,y,color=['green','blue','yellow'])\n",
    "addlabel(x,y)\n",
    "plt.xlabel('Landsize', size=14)\n",
    "plt.ylabel('Price', size=14)\n",
    "plt.title ('Perbandingan harga rumah berdasarkan Landsize', size=14)\n",
    "plt.tight_layout()\n",
    "plt.show()"
   ]
  },
  {
   "cell_type": "markdown",
   "metadata": {},
   "source": [
    "Dari hasil visualisasi, didapatkan bahwa semakin besar ukuran luas tanah maka akan semakin besar pula harga properti. Berikut adalah harga median dari properti berdasarkan luas tanah:\n",
    "* Landsize small (<163 m2) memiliki harga median 680.500 AUD\n",
    "* Landsize medium (164-321 m2) memiliki harga median 888.000 AUD\n",
    "* Landsize large (>321 m2) memiliki harga median 955.000 AUD"
   ]
  },
  {
   "cell_type": "code",
   "execution_count": 37,
   "metadata": {
    "ExecuteTime": {
     "end_time": "2022-02-21T04:45:36.345925Z",
     "start_time": "2022-02-21T04:45:36.223919Z"
    }
   },
   "outputs": [
    {
     "name": "stdout",
     "output_type": "stream",
     "text": [
      "6.1175278300710375e-58\n",
      "Tolak Ho, Setidaknya satu pasang harga rumah dengan BuildingArea tertentu  berbeda\n"
     ]
    }
   ],
   "source": [
    "# BUILDINGAREA DENGAN PRICE\n",
    "#Ho: Harga setiap rumah dengan BuildingArea tertentu adalah sama\n",
    "#H1: Setidaknya satu pasang harga rumah dengan BuildingArea tertentu  berbeda\n",
    "\n",
    "stats,pval=kruskal(*[df[df['BuildingArea']==i]['Price'] for i in df['BuildingArea'].unique()])\n",
    "print(pval)   \n",
    "if pval<=0.05:\n",
    "    print('Tolak Ho, Setidaknya satu pasang harga rumah dengan BuildingArea tertentu  berbeda')\n",
    "else:\n",
    "    print('Terima Ho,Harga setiap rumah dengan BuildingArea tertentu adalah sama')    "
   ]
  },
  {
   "cell_type": "code",
   "execution_count": 38,
   "metadata": {
    "ExecuteTime": {
     "end_time": "2022-02-21T04:45:36.361925Z",
     "start_time": "2022-02-21T04:45:36.347929Z"
    }
   },
   "outputs": [],
   "source": [
    "#Kategorikan ukuran BuildingArea kedalam klasifikasi berikut\n",
    "#pembagian berdasarkan nilai q1,q2,q3 dari landsize\n",
    "#kecil: <163\n",
    "#sedang: 164-321\n",
    "#besar: >321"
   ]
  },
  {
   "cell_type": "code",
   "execution_count": 39,
   "metadata": {
    "ExecuteTime": {
     "end_time": "2022-02-21T04:45:36.393927Z",
     "start_time": "2022-02-21T04:45:36.363929Z"
    }
   },
   "outputs": [
    {
     "data": {
      "text/html": [
       "<div>\n",
       "<style scoped>\n",
       "    .dataframe tbody tr th:only-of-type {\n",
       "        vertical-align: middle;\n",
       "    }\n",
       "\n",
       "    .dataframe tbody tr th {\n",
       "        vertical-align: top;\n",
       "    }\n",
       "\n",
       "    .dataframe thead th {\n",
       "        text-align: right;\n",
       "    }\n",
       "</style>\n",
       "<table border=\"1\" class=\"dataframe\">\n",
       "  <thead>\n",
       "    <tr style=\"text-align: right;\">\n",
       "      <th></th>\n",
       "      <th>BuildArea</th>\n",
       "      <th>Price</th>\n",
       "    </tr>\n",
       "  </thead>\n",
       "  <tbody>\n",
       "    <tr>\n",
       "      <th>0</th>\n",
       "      <td>Small</td>\n",
       "      <td>841000.0</td>\n",
       "    </tr>\n",
       "    <tr>\n",
       "      <th>1</th>\n",
       "      <td>Medium</td>\n",
       "      <td>888000.0</td>\n",
       "    </tr>\n",
       "    <tr>\n",
       "      <th>2</th>\n",
       "      <td>Large</td>\n",
       "      <td>2255000.0</td>\n",
       "    </tr>\n",
       "  </tbody>\n",
       "</table>\n",
       "</div>"
      ],
      "text/plain": [
       "  BuildArea      Price\n",
       "0     Small   841000.0\n",
       "1    Medium   888000.0\n",
       "2     Large  2255000.0"
      ]
     },
     "execution_count": 39,
     "metadata": {},
     "output_type": "execute_result"
    }
   ],
   "source": [
    "#buat dataframe baru untuk kategori BuildingArea\n",
    "price_BuildArea_small=df[df['BuildingArea']<163].median()['Price']\n",
    "price_BuildArea_med=df[(df['BuildingArea']>164)|df['Landsize']<321].median()['Price']\n",
    "price_BuildArea_large=df[df['BuildingArea']>321].median()['Price']\n",
    "\n",
    "dict2={\n",
    "    'BuildArea':['Small','Medium','Large'],\n",
    "    'Price':[price_BuildArea_small,price_BuildArea_med,price_BuildArea_large],\n",
    "}\n",
    "BuildArea_price=pd.DataFrame(dict2)\n",
    "BuildArea_price"
   ]
  },
  {
   "cell_type": "code",
   "execution_count": 40,
   "metadata": {
    "ExecuteTime": {
     "end_time": "2022-02-21T04:45:36.569943Z",
     "start_time": "2022-02-21T04:45:36.394928Z"
    }
   },
   "outputs": [
    {
     "data": {
      "image/png": "[encoded data removed]",
      "text/plain": [
       "<Figure size 576x432 with 1 Axes>"
      ]
     },
     "metadata": {
      "needs_background": "light"
     },
     "output_type": "display_data"
    }
   ],
   "source": [
    "def addlabel (x,y):\n",
    "     for i in range(len(x)):\n",
    "        plt.text(i,y[i],y[i], ha='center')\n",
    "plt.figure(figsize=(8,6))\n",
    "x=BuildArea_price['BuildArea']\n",
    "y=BuildArea_price['Price']\n",
    "plt.bar(x,y,color=['green','blue','yellow'])\n",
    "addlabel(x,y)\n",
    "plt.xlabel('BuildArea', size=14)\n",
    "plt.ylabel('Price', size=14)\n",
    "plt.title ('Perbandingan harga rumah berdasarkan BuildArea', size=14)\n",
    "plt.tight_layout()\n",
    "plt.show()"
   ]
  },
  {
   "cell_type": "markdown",
   "metadata": {
    "ExecuteTime": {
     "end_time": "2022-02-21T04:26:58.470216Z",
     "start_time": "2022-02-21T04:26:58.463222Z"
    }
   },
   "source": [
    "Dari hasil visualisasi, didapatkan bahwa semakin besar luas bangunan maka akan semakin besar pula harga properti. Berikut adalah harga median dari properti berdasarkan luas bangunan:\n",
    "* Landsize small (<163 m2) memiliki harga median 841.000 AUD\n",
    "* Landsize medium (164-321 m2) memiliki harga median 888.000 AUD\n",
    "* Landsize large (>321 m2) memiliki harga median 2.255.000 AUD"
   ]
  },
  {
   "cell_type": "markdown",
   "metadata": {
    "ExecuteTime": {
     "end_time": "2021-12-02T19:38:45.093672Z",
     "start_time": "2021-12-02T19:38:45.074893Z"
    }
   },
   "source": [
    "## Data Kualitatif"
   ]
  },
  {
   "cell_type": "code",
   "execution_count": 41,
   "metadata": {
    "ExecuteTime": {
     "end_time": "2022-02-21T04:45:36.585943Z",
     "start_time": "2022-02-21T04:45:36.570943Z"
    }
   },
   "outputs": [],
   "source": [
    "# ADDRESS DENGAN PRICE TIDAK DICARI, KARENA ADDRESS TIDAK MEMILIKI KATEGORI SPESIFIK"
   ]
  },
  {
   "cell_type": "code",
   "execution_count": 42,
   "metadata": {
    "ExecuteTime": {
     "end_time": "2022-02-21T04:45:36.616944Z",
     "start_time": "2022-02-21T04:45:36.587948Z"
    }
   },
   "outputs": [
    {
     "name": "stdout",
     "output_type": "stream",
     "text": [
      "1.6040624861205967e-27\n",
      "Tolak Ho, Setidaknya harga rumah di satu pasang suburb berbeda\n"
     ]
    }
   ],
   "source": [
    "# SUBURB DENGAN PRICE\n",
    "#Ho: Harga rumah di setiap suburb adalah sama\n",
    "#H1: Setidaknya harga rumah di satu pasang suburb berbeda\n",
    "\n",
    "stats,pval=kruskal(*[df[df['Suburb']==i]['Price'] for i in df['Suburb'].unique()])\n",
    "print(pval)   \n",
    "if pval<=0.05:\n",
    "    print('Tolak Ho, Setidaknya harga rumah di satu pasang suburb berbeda')\n",
    "else:\n",
    "    print('Terima Ho, Harga rumah di setiap suburb adalah sama')    "
   ]
  },
  {
   "cell_type": "code",
   "execution_count": 43,
   "metadata": {
    "ExecuteTime": {
     "end_time": "2022-02-21T04:45:36.647947Z",
     "start_time": "2022-02-21T04:45:36.618947Z"
    }
   },
   "outputs": [
    {
     "data": {
      "text/html": [
       "<div>\n",
       "<style scoped>\n",
       "    .dataframe tbody tr th:only-of-type {\n",
       "        vertical-align: middle;\n",
       "    }\n",
       "\n",
       "    .dataframe tbody tr th {\n",
       "        vertical-align: top;\n",
       "    }\n",
       "\n",
       "    .dataframe thead th {\n",
       "        text-align: right;\n",
       "    }\n",
       "</style>\n",
       "<table border=\"1\" class=\"dataframe\">\n",
       "  <thead>\n",
       "    <tr style=\"text-align: right;\">\n",
       "      <th></th>\n",
       "      <th>Suburb</th>\n",
       "      <th>Price</th>\n",
       "    </tr>\n",
       "  </thead>\n",
       "  <tbody>\n",
       "    <tr>\n",
       "      <th>0</th>\n",
       "      <td>Melbourne</td>\n",
       "      <td>542500.0</td>\n",
       "    </tr>\n",
       "    <tr>\n",
       "      <th>1</th>\n",
       "      <td>Southbank</td>\n",
       "      <td>600000.0</td>\n",
       "    </tr>\n",
       "    <tr>\n",
       "      <th>2</th>\n",
       "      <td>North Melbourne</td>\n",
       "      <td>780000.0</td>\n",
       "    </tr>\n",
       "    <tr>\n",
       "      <th>3</th>\n",
       "      <td>Docklands</td>\n",
       "      <td>800000.0</td>\n",
       "    </tr>\n",
       "    <tr>\n",
       "      <th>4</th>\n",
       "      <td>South Yarra</td>\n",
       "      <td>802000.0</td>\n",
       "    </tr>\n",
       "    <tr>\n",
       "      <th>5</th>\n",
       "      <td>Kensington</td>\n",
       "      <td>812000.0</td>\n",
       "    </tr>\n",
       "    <tr>\n",
       "      <th>6</th>\n",
       "      <td>Maribyrnong</td>\n",
       "      <td>820000.0</td>\n",
       "    </tr>\n",
       "    <tr>\n",
       "      <th>7</th>\n",
       "      <td>East Melbourne</td>\n",
       "      <td>897500.0</td>\n",
       "    </tr>\n",
       "    <tr>\n",
       "      <th>8</th>\n",
       "      <td>Flemington</td>\n",
       "      <td>917500.0</td>\n",
       "    </tr>\n",
       "    <tr>\n",
       "      <th>9</th>\n",
       "      <td>Carlton</td>\n",
       "      <td>957000.0</td>\n",
       "    </tr>\n",
       "    <tr>\n",
       "      <th>10</th>\n",
       "      <td>Travancore</td>\n",
       "      <td>978000.0</td>\n",
       "    </tr>\n",
       "    <tr>\n",
       "      <th>11</th>\n",
       "      <td>West Melbourne</td>\n",
       "      <td>995000.0</td>\n",
       "    </tr>\n",
       "    <tr>\n",
       "      <th>12</th>\n",
       "      <td>Ascot Vale</td>\n",
       "      <td>1007500.0</td>\n",
       "    </tr>\n",
       "    <tr>\n",
       "      <th>13</th>\n",
       "      <td>Parkville</td>\n",
       "      <td>1040000.0</td>\n",
       "    </tr>\n",
       "    <tr>\n",
       "      <th>14</th>\n",
       "      <td>Port Melbourne</td>\n",
       "      <td>1150000.0</td>\n",
       "    </tr>\n",
       "    <tr>\n",
       "      <th>15</th>\n",
       "      <td>Carlton North</td>\n",
       "      <td>1463000.0</td>\n",
       "    </tr>\n",
       "    <tr>\n",
       "      <th>16</th>\n",
       "      <td>Princes Hill</td>\n",
       "      <td>1700000.0</td>\n",
       "    </tr>\n",
       "  </tbody>\n",
       "</table>\n",
       "</div>"
      ],
      "text/plain": [
       "             Suburb      Price\n",
       "0         Melbourne   542500.0\n",
       "1         Southbank   600000.0\n",
       "2   North Melbourne   780000.0\n",
       "3         Docklands   800000.0\n",
       "4       South Yarra   802000.0\n",
       "5        Kensington   812000.0\n",
       "6       Maribyrnong   820000.0\n",
       "7    East Melbourne   897500.0\n",
       "8        Flemington   917500.0\n",
       "9           Carlton   957000.0\n",
       "10       Travancore   978000.0\n",
       "11   West Melbourne   995000.0\n",
       "12       Ascot Vale  1007500.0\n",
       "13        Parkville  1040000.0\n",
       "14   Port Melbourne  1150000.0\n",
       "15    Carlton North  1463000.0\n",
       "16     Princes Hill  1700000.0"
      ]
     },
     "execution_count": 43,
     "metadata": {},
     "output_type": "execute_result"
    }
   ],
   "source": [
    "pv_Suburb=df.pivot_table(index='Suburb',values='Price',aggfunc='median').sort_values(by='Price').reset_index()\n",
    "pv_Suburb"
   ]
  },
  {
   "cell_type": "code",
   "execution_count": 44,
   "metadata": {
    "ExecuteTime": {
     "end_time": "2022-02-21T04:45:37.139985Z",
     "start_time": "2022-02-21T04:45:36.649949Z"
    }
   },
   "outputs": [
    {
     "data": {
      "image/png": "[encoded data removed]",
      "text/plain": [
       "<Figure size 1440x720 with 1 Axes>"
      ]
     },
     "metadata": {
      "needs_background": "light"
     },
     "output_type": "display_data"
    }
   ],
   "source": [
    "def addlabel (x,y):\n",
    "     for i in range(len(x)):\n",
    "        plt.text(i,y[i],y[i], ha='center')\n",
    "plt.figure(figsize=(20,10))\n",
    "x=pv_Suburb['Suburb']\n",
    "y=pv_Suburb['Price']\n",
    "plt.bar(x,y,color=['b','g','r','m','c','k','y'])\n",
    "addlabel(x,y)\n",
    "plt.xlabel('Suburb', size=14)\n",
    "plt.ylabel('Price', size=14)\n",
    "plt.title ('Perbandingan harga rumah berdasarkan Tipe', size=14)\n",
    "plt.tight_layout()\n",
    "plt.show()\n"
   ]
  },
  {
   "cell_type": "code",
   "execution_count": 45,
   "metadata": {
    "ExecuteTime": {
     "end_time": "2022-02-21T04:45:38.616098Z",
     "start_time": "2022-02-21T04:45:37.141987Z"
    }
   },
   "outputs": [
    {
     "data": {
      "image/png": "[encoded data removed]",
      "text/plain": [
       "<Figure size 1296x720 with 1 Axes>"
      ]
     },
     "metadata": {
      "needs_background": "light"
     },
     "output_type": "display_data"
    }
   ],
   "source": [
    "plt.figure(figsize=(18,10))\n",
    "sns.barplot(data=df, x='Suburb', y='Price',estimator=np.median)\n",
    "plt.xlabel('Suburb', size=15)\n",
    "plt.ylabel('Price', size=15)\n",
    "plt.title ('Perbandingan harga rumah berdasarkan SubUrb', size=20)\n",
    "plt.tight_layout()\n",
    "plt.show()\n"
   ]
  },
  {
   "cell_type": "markdown",
   "metadata": {},
   "source": [
    "Rumah dengan harga paling mahal ada di SubUrb **PrincesHill (Med=1.700.000 AUD)** \n",
    "\n",
    "Rumah dengan harga paling murah ada di SubUrb **Melbourne (Med=542.500 AUD)**"
   ]
  },
  {
   "cell_type": "code",
   "execution_count": 46,
   "metadata": {
    "ExecuteTime": {
     "end_time": "2022-02-21T04:45:38.632099Z",
     "start_time": "2022-02-21T04:45:38.618098Z"
    }
   },
   "outputs": [
    {
     "name": "stdout",
     "output_type": "stream",
     "text": [
      "1.0967384044342614e-122\n",
      "Tolak Ho,Setidaknya harga satu pasang rumah  di salah satu tipe berbeda\n"
     ]
    }
   ],
   "source": [
    "# TYPE DENGAN PRICE\n",
    "#Ho: Harga rumah di semua tipe adalah sama\n",
    "#H1: Setidaknya harga satu pasang rumah  di salah satu tipe berbeda\n",
    "\n",
    "stats,pval=kruskal(*[df[df['Type']==i]['Price'] for i in df['Type'].unique()])\n",
    "print(pval)   \n",
    "if pval<=0.05:\n",
    "    print('Tolak Ho,Setidaknya harga satu pasang rumah  di salah satu tipe berbeda')\n",
    "else:\n",
    "    print('Terima Ho, Harga rumah di semua tipe adalah sama')    \n"
   ]
  },
  {
   "cell_type": "code",
   "execution_count": 47,
   "metadata": {
    "ExecuteTime": {
     "end_time": "2022-02-21T04:45:38.663100Z",
     "start_time": "2022-02-21T04:45:38.633103Z"
    }
   },
   "outputs": [
    {
     "data": {
      "text/html": [
       "<div>\n",
       "<style scoped>\n",
       "    .dataframe tbody tr th:only-of-type {\n",
       "        vertical-align: middle;\n",
       "    }\n",
       "\n",
       "    .dataframe tbody tr th {\n",
       "        vertical-align: top;\n",
       "    }\n",
       "\n",
       "    .dataframe thead th {\n",
       "        text-align: right;\n",
       "    }\n",
       "</style>\n",
       "<table border=\"1\" class=\"dataframe\">\n",
       "  <thead>\n",
       "    <tr style=\"text-align: right;\">\n",
       "      <th></th>\n",
       "      <th>Type</th>\n",
       "      <th>Price</th>\n",
       "    </tr>\n",
       "  </thead>\n",
       "  <tbody>\n",
       "    <tr>\n",
       "      <th>0</th>\n",
       "      <td>u</td>\n",
       "      <td>573500.0</td>\n",
       "    </tr>\n",
       "    <tr>\n",
       "      <th>1</th>\n",
       "      <td>t</td>\n",
       "      <td>855000.0</td>\n",
       "    </tr>\n",
       "    <tr>\n",
       "      <th>2</th>\n",
       "      <td>h</td>\n",
       "      <td>1230000.0</td>\n",
       "    </tr>\n",
       "  </tbody>\n",
       "</table>\n",
       "</div>"
      ],
      "text/plain": [
       "  Type      Price\n",
       "0    u   573500.0\n",
       "1    t   855000.0\n",
       "2    h  1230000.0"
      ]
     },
     "execution_count": 47,
     "metadata": {},
     "output_type": "execute_result"
    }
   ],
   "source": [
    "type_price=df.groupby('Type').median()[['Price']].sort_values(by='Price').reset_index()\n",
    "type_price"
   ]
  },
  {
   "cell_type": "code",
   "execution_count": 48,
   "metadata": {
    "ExecuteTime": {
     "end_time": "2022-02-21T04:45:38.851544Z",
     "start_time": "2022-02-21T04:45:38.665101Z"
    }
   },
   "outputs": [
    {
     "data": {
      "image/png": "[encoded data removed]",
      "text/plain": [
       "<Figure size 576x288 with 1 Axes>"
      ]
     },
     "metadata": {
      "needs_background": "light"
     },
     "output_type": "display_data"
    }
   ],
   "source": [
    "def addlabel (x,y):\n",
    "     for i in range(len(x)):\n",
    "        plt.text(i,y[i],y[i], ha='center')\n",
    "plt.figure(figsize=(8,4))\n",
    "x=type_price['Type']\n",
    "y=type_price['Price']\n",
    "plt.bar(x,y,color=['green','blue','yellow'])\n",
    "addlabel(x,y)\n",
    "plt.xlabel('Type', size=14)\n",
    "plt.ylabel('Price', size=14)\n",
    "plt.title ('Perbandingan harga rumah berdasarkan Tipe', size=14)\n",
    "plt.tight_layout()\n",
    "plt.show()\n"
   ]
  },
  {
   "cell_type": "markdown",
   "metadata": {
    "ExecuteTime": {
     "end_time": "2021-12-02T04:35:42.653061Z",
     "start_time": "2021-12-02T04:35:42.643060Z"
    }
   },
   "source": [
    "Rumah dengan harga paling mahal adalah  **tipe h (Med=1.230.000 AUD)** \n",
    "\n",
    "Rumah dengan harga paling murah adalah **tipe u (Med=573.500 AUD)**"
   ]
  },
  {
   "cell_type": "code",
   "execution_count": 49,
   "metadata": {
    "ExecuteTime": {
     "end_time": "2022-02-21T04:45:38.867547Z",
     "start_time": "2022-02-21T04:45:38.853545Z"
    }
   },
   "outputs": [
    {
     "name": "stdout",
     "output_type": "stream",
     "text": [
      "0.3358528132188839\n",
      "Terima Ho, Harga rumah di setiap Region adalah sama\n"
     ]
    }
   ],
   "source": [
    "# REGIONNAME DENGAN PRICE\n",
    "#Ho: Harga rumah di setiap Region adalah sama\n",
    "#H1: Setidaknya harga rumah di satu pasang Region berbeda\n",
    "\n",
    "stats,pval=kruskal(*[df[df['Regionname']==i]['Price'] for i in df['Regionname'].unique()])\n",
    "print(pval)   \n",
    "if pval<=0.05:\n",
    "    print('Tolak Ho, Setidaknya harga rumah di satu pasang Region berbeda')\n",
    "else:\n",
    "    print('Terima Ho, Harga rumah di setiap Region adalah sama')    "
   ]
  },
  {
   "cell_type": "code",
   "execution_count": 50,
   "metadata": {
    "ExecuteTime": {
     "end_time": "2022-02-21T04:45:38.899546Z",
     "start_time": "2022-02-21T04:45:38.869547Z"
    }
   },
   "outputs": [
    {
     "data": {
      "text/html": [
       "<div>\n",
       "<style scoped>\n",
       "    .dataframe tbody tr th:only-of-type {\n",
       "        vertical-align: middle;\n",
       "    }\n",
       "\n",
       "    .dataframe tbody tr th {\n",
       "        vertical-align: top;\n",
       "    }\n",
       "\n",
       "    .dataframe thead th {\n",
       "        text-align: right;\n",
       "    }\n",
       "</style>\n",
       "<table border=\"1\" class=\"dataframe\">\n",
       "  <thead>\n",
       "    <tr style=\"text-align: right;\">\n",
       "      <th></th>\n",
       "      <th>Regionname</th>\n",
       "      <th>Price</th>\n",
       "    </tr>\n",
       "  </thead>\n",
       "  <tbody>\n",
       "    <tr>\n",
       "      <th>0</th>\n",
       "      <td>Northern Metropolitan</td>\n",
       "      <td>857500.0</td>\n",
       "    </tr>\n",
       "    <tr>\n",
       "      <th>1</th>\n",
       "      <td>Southern Metropolitan</td>\n",
       "      <td>857000.0</td>\n",
       "    </tr>\n",
       "    <tr>\n",
       "      <th>2</th>\n",
       "      <td>Western Metropolitan</td>\n",
       "      <td>945000.0</td>\n",
       "    </tr>\n",
       "  </tbody>\n",
       "</table>\n",
       "</div>"
      ],
      "text/plain": [
       "              Regionname     Price\n",
       "0  Northern Metropolitan  857500.0\n",
       "1  Southern Metropolitan  857000.0\n",
       "2   Western Metropolitan  945000.0"
      ]
     },
     "execution_count": 50,
     "metadata": {},
     "output_type": "execute_result"
    }
   ],
   "source": [
    "pv_reg=df.pivot_table(index='Regionname',values='Price',aggfunc='median').reset_index()\n",
    "pv_reg"
   ]
  },
  {
   "cell_type": "code",
   "execution_count": 51,
   "metadata": {
    "ExecuteTime": {
     "end_time": "2022-02-21T04:45:39.075560Z",
     "start_time": "2022-02-21T04:45:38.901548Z"
    }
   },
   "outputs": [
    {
     "data": {
      "image/png": "[encoded data removed]",
      "text/plain": [
       "<Figure size 576x432 with 1 Axes>"
      ]
     },
     "metadata": {
      "needs_background": "light"
     },
     "output_type": "display_data"
    }
   ],
   "source": [
    "def addlabel (x,y):\n",
    "     for i in range(len(x)):\n",
    "        plt.text(i,y[i],y[i], ha='center')\n",
    "plt.figure(figsize=(8,6))\n",
    "x=pv_reg['Regionname']\n",
    "y=pv_reg['Price']\n",
    "plt.bar(x,y,color=['green','blue','yellow'])\n",
    "addlabel(x,y)\n",
    "plt.xlabel('Regionname', size=14)\n",
    "plt.ylabel('Price', size=14)\n",
    "plt.title ('Perbandingan harga rumah berdasarkan Region', size=14)\n",
    "plt.tight_layout()\n",
    "plt.show()"
   ]
  },
  {
   "cell_type": "markdown",
   "metadata": {},
   "source": [
    "Rumah dengan harga paling mahal ada region Northern Metropolitan  **tipe h (Med=857.500 AUD)** \n",
    "\n",
    "Rumah dengan harga paling murah ada region Western Metropolitan **tipe u (Med=945.000 AUD)**"
   ]
  },
  {
   "cell_type": "markdown",
   "metadata": {},
   "source": [
    "## Additional Analysis (Base on Date)\n",
    "Kita akan melakukan analasis terhadap pola penjualan di waktu yang berbeda"
   ]
  },
  {
   "cell_type": "markdown",
   "metadata": {
    "ExecuteTime": {
     "end_time": "2022-02-21T05:13:00.297189Z",
     "start_time": "2022-02-21T05:13:00.281194Z"
    }
   },
   "source": [
    "### Datetime Analysis\n"
   ]
  },
  {
   "cell_type": "code",
   "execution_count": 56,
   "metadata": {
    "ExecuteTime": {
     "end_time": "2022-02-21T04:53:04.437382Z",
     "start_time": "2022-02-21T04:53:04.427381Z"
    }
   },
   "outputs": [
    {
     "data": {
      "text/plain": [
       "dtype('O')"
      ]
     },
     "execution_count": 56,
     "metadata": {},
     "output_type": "execute_result"
    }
   ],
   "source": [
    "# Cek data tipenya\n",
    "df['Date'].dtype"
   ]
  },
  {
   "cell_type": "code",
   "execution_count": 64,
   "metadata": {
    "ExecuteTime": {
     "end_time": "2022-02-21T05:01:10.136043Z",
     "start_time": "2022-02-21T05:01:10.113047Z"
    }
   },
   "outputs": [
    {
     "data": {
      "text/plain": [
       "1119   2017-09-23\n",
       "1116   2017-09-23\n",
       "1117   2017-09-23\n",
       "1118   2017-09-23\n",
       "1122   2017-09-23\n",
       "          ...    \n",
       "258    2016-04-16\n",
       "41     2016-04-16\n",
       "411    2016-02-04\n",
       "228    2016-02-04\n",
       "227    2016-02-04\n",
       "Name: Date, Length: 1129, dtype: datetime64[ns]"
      ]
     },
     "execution_count": 64,
     "metadata": {},
     "output_type": "execute_result"
    }
   ],
   "source": [
    "df['Date'].sort_values(ascending=False)"
   ]
  },
  {
   "cell_type": "markdown",
   "metadata": {},
   "source": [
    "Rekaman data penjualan tahun 2016 dimulai pada bulan Feb-Des, sedangkan data penjualan tahun 2017 dimulai dari Jan-Sep"
   ]
  },
  {
   "cell_type": "code",
   "execution_count": 57,
   "metadata": {
    "ExecuteTime": {
     "end_time": "2022-02-21T04:53:21.369164Z",
     "start_time": "2022-02-21T04:53:21.353165Z"
    }
   },
   "outputs": [
    {
     "data": {
      "text/plain": [
       "0      2016-09-03\n",
       "1      2016-12-03\n",
       "2      2016-12-03\n",
       "3      2017-03-04\n",
       "4      2017-03-04\n",
       "          ...    \n",
       "1124   2017-08-26\n",
       "1125   2017-08-26\n",
       "1126   2017-08-26\n",
       "1127   2017-08-26\n",
       "1128   2017-08-26\n",
       "Name: Date, Length: 1129, dtype: datetime64[ns]"
      ]
     },
     "execution_count": 57,
     "metadata": {},
     "output_type": "execute_result"
    }
   ],
   "source": [
    "# Konversi date ke format Datetime dan simpan dalam bentuk ddmmyy\n",
    "df['Date'] = pd.to_datetime(df['Date'], format=\"%d/%m/%Y\")\n",
    "df['Date']"
   ]
  },
  {
   "cell_type": "code",
   "execution_count": 58,
   "metadata": {
    "ExecuteTime": {
     "end_time": "2022-02-21T04:54:06.833376Z",
     "start_time": "2022-02-21T04:54:06.818395Z"
    }
   },
   "outputs": [],
   "source": [
    "# buat kolom month dan year \n",
    "df['Month'] = df['Date'].dt.month\n",
    "df['Year'] = df['Date'].dt.year"
   ]
  },
  {
   "cell_type": "code",
   "execution_count": 59,
   "metadata": {
    "ExecuteTime": {
     "end_time": "2022-02-21T04:55:33.064584Z",
     "start_time": "2022-02-21T04:55:33.035583Z"
    }
   },
   "outputs": [],
   "source": [
    "# buat proporsi antara sales per bulan dengan total sales \n",
    "jan_sales = df['Price'].loc[df['Month'] == 1].sum()/df['Price'].sum()\n",
    "feb_sales = df['Price'].loc[df['Month'] == 2].sum()/df['Price'].sum()\n",
    "mar_sales = df['Price'].loc[df['Month'] == 3].sum()/df['Price'].sum()\n",
    "apr_sales = df['Price'].loc[df['Month'] == 4].sum()/df['Price'].sum()\n",
    "may_sales = df['Price'].loc[df['Month'] == 5].sum()/df['Price'].sum()\n",
    "jun_sales = df['Price'].loc[df['Month'] == 6].sum()/df['Price'].sum()\n",
    "jul_sales = df['Price'].loc[df['Month'] == 7].sum()/df['Price'].sum()\n",
    "aug_sales = df['Price'].loc[df['Month'] == 8].sum()/df['Price'].sum()\n",
    "sep_sales = df['Price'].loc[df['Month'] == 9].sum()/df['Price'].sum()\n",
    "oct_sales = df['Price'].loc[df['Month'] == 10].sum()/df['Price'].sum()\n",
    "nov_sales = df['Price'].loc[df['Month'] == 11].sum()/df['Price'].sum()\n",
    "dec_sales = df['Price'].loc[df['Month'] == 12].sum()/df['Price'].sum()"
   ]
  },
  {
   "cell_type": "code",
   "execution_count": 60,
   "metadata": {
    "ExecuteTime": {
     "end_time": "2022-02-21T04:55:47.332319Z",
     "start_time": "2022-02-21T04:55:47.102317Z"
    }
   },
   "outputs": [
    {
     "data": {
      "image/png": "[encoded data removed]",
      "text/plain": [
       "<Figure size 1440x576 with 1 Axes>"
      ]
     },
     "metadata": {},
     "output_type": "display_data"
    }
   ],
   "source": [
    "#define data\n",
    "data = [jan_sales, feb_sales, mar_sales, apr_sales, may_sales, jun_sales, jul_sales, aug_sales, sep_sales, oct_sales,\n",
    "       nov_sales, dec_sales ]\n",
    "labels = ['Jan', 'Feb', 'Mar', 'Apr', 'May', 'Jun', 'Jul', 'Aug', 'Sept', 'Oct', 'Nov', 'Dec']\n",
    "\n",
    "#tentukan warna\n",
    "colors = sns.color_palette('pastel')[0:5]\n",
    "plt.figure(figsize=(20,8))\n",
    "\n",
    "#buat pie chart\n",
    "plt.pie(data, labels = labels, colors = colors, autopct='%.1f%%')\n",
    "plt.show()"
   ]
  },
  {
   "cell_type": "markdown",
   "metadata": {},
   "source": [
    "* Dari visualisasi di atas, kita bisa melihat bahwa proporsi pembelian properti tertinggi ada di bulan May dan June. \n",
    "* Mulai dari Desember hingga Februari, kita dapat melihat proporsi penjualan berkurang dan kembali meningkat pada Maret hingga Mei dan kemudian turun secara bertahap.\n",
    "* Pada bulan Januari, kita dapat mengamati proporsi penjualan yang minimal, setelah Feb kita dapat melihat peningkatan penjualan secara bertahap.\n",
    "\n",
    "* Catatan penting bahwa rekaman penjualan pada bulan Oct, Nov, Dec 2017 belum dilakukan, sehingga proporsi data Oct, Nov, Dec berasal dari data 2016, serta proporsi data Jan berasal dari 2017 karena rekaman data penjualan di Jan 2016 tidak ditemukan\n"
   ]
  },
  {
   "cell_type": "code",
   "execution_count": 61,
   "metadata": {
    "ExecuteTime": {
     "end_time": "2022-02-21T04:57:43.763217Z",
     "start_time": "2022-02-21T04:57:43.753210Z"
    }
   },
   "outputs": [],
   "source": [
    "# buat proporsi antara sales per tahun dengan total sales \n",
    "sales_2016 = df['Price'].loc[df['Year'] == 2016].sum()/df['Price'].sum()\n",
    "sales_2017 = df['Price'].loc[df['Year'] == 2017].sum()/df['Price'].sum()"
   ]
  },
  {
   "cell_type": "code",
   "execution_count": 62,
   "metadata": {
    "ExecuteTime": {
     "end_time": "2022-02-21T04:57:57.059880Z",
     "start_time": "2022-02-21T04:57:56.951875Z"
    }
   },
   "outputs": [
    {
     "data": {
      "image/png": "[encoded data removed]",
      "text/plain": [
       "<Figure size 1440x576 with 1 Axes>"
      ]
     },
     "metadata": {},
     "output_type": "display_data"
    }
   ],
   "source": [
    "data = [sales_2016, sales_2017]\n",
    "labels = ['2016', '2017']\n",
    "\n",
    "#tentukan warna\n",
    "colors = sns.color_palette('muted')[0:5]\n",
    "plt.figure(figsize=(20,8))\n",
    "plt.title(\"Percentage of Sales by Year\", fontsize=14);\n",
    "\n",
    "#buat pie chart\n",
    "plt.pie(data, labels = labels, explode=[0.05]*2, colors = colors, autopct='%.1f%%',)\n",
    "plt.show()"
   ]
  },
  {
   "cell_type": "markdown",
   "metadata": {},
   "source": [
    "Dari visualisasi diatas, terlihat 55,2% dari properti terjual pada tahun 2016 dan 44,8% terjual pada tahun 2017. Hal tersebut belum dapat disimpulkan bahwa tahun 2016 memiliki penjualan yang lebih baik karena data pada tahun 2017 berhenti bulan September dan masih menyisakan 3 bulan waktu penjualan"
   ]
  },
  {
   "cell_type": "code",
   "execution_count": 63,
   "metadata": {
    "ExecuteTime": {
     "end_time": "2022-02-21T04:59:28.042668Z",
     "start_time": "2022-02-21T04:59:27.762645Z"
    }
   },
   "outputs": [
    {
     "data": {
      "image/png": "[encoded data removed]",
      "text/plain": [
       "<Figure size 1440x360 with 1 Axes>"
      ]
     },
     "metadata": {
      "needs_background": "light"
     },
     "output_type": "display_data"
    }
   ],
   "source": [
    "# Analisis time series dari harga penjualan 2016-2017 \n",
    "plt.figure(figsize=(20,5))\n",
    "sns.lineplot(data = df, x='Date',y='Price', ci=None, estimator='median', marker='o');"
   ]
  },
  {
   "cell_type": "markdown",
   "metadata": {},
   "source": [
    "Dari uraian di atas, kita dapat mengamati banyak sekali variasi harga jual. Pada tahun tertentu, kita dapat melihat bagian waktu yang berbeda atau harga bulanan naik dan turun. Misalnya, di tahun 2017, sekitar bulan Februari atau Maret, harga turun ke titik terendah. Segera setelah ini, harga meningkat. Secara keseluruhan kita dapat melihat bahwa harga rata-rata rumah tetap mendekati 800k."
   ]
  },
  {
   "cell_type": "code",
   "execution_count": 65,
   "metadata": {
    "ExecuteTime": {
     "end_time": "2022-02-21T05:09:43.785489Z",
     "start_time": "2022-02-21T05:09:43.501472Z"
    }
   },
   "outputs": [
    {
     "data": {
      "text/plain": [
       "<AxesSubplot:title={'center':'Harga Penjualan per Bulan'}, xlabel='Month', ylabel='Price'>"
      ]
     },
     "execution_count": 65,
     "metadata": {},
     "output_type": "execute_result"
    },
    {
     "data": {
      "image/png": "[encoded data removed]",
      "text/plain": [
       "<Figure size 1296x432 with 1 Axes>"
      ]
     },
     "metadata": {
      "needs_background": "light"
     },
     "output_type": "display_data"
    }
   ],
   "source": [
    "#Analisis harga penjualan per bulan\n",
    "plt.figure(figsize=(18,6))\n",
    "plt.title('Harga Penjualan per Bulan').set_fontsize('16') \n",
    "sns.lineplot(x='Month', y='Price', data=df, hue='Year', estimator='median', palette='bright', ci=None, marker='o',)"
   ]
  },
  {
   "cell_type": "markdown",
   "metadata": {},
   "source": [
    "* Tahun 2016 kita dapat mengamati tren naik, dari Feb Penjualan harga naik, selama pertengahan mei harga turun dan kemudian mengikuti tren naik.\n",
    "* Tahun 2017 kita bisa melihat median harga awal dari 100k kemudian turun di pertengahan Juli lalu naik di bulan Agustus dan kemudian perlahan meningkat.\n",
    "* Penurunan harga terjadi pada interval bulan April - Juli"
   ]
  },
  {
   "cell_type": "markdown",
   "metadata": {},
   "source": [
    "### Seasonality Anaylsis\n",
    "Cek pembagian musim pada situs berikut [Melbourne Season](https://www.visitvictoria.com/practical-information/melbourne-weather#:~:text=With%20its%20variable%20climate%2C%20Melbourne,September%20to%20November%20(spring))"
   ]
  },
  {
   "cell_type": "code",
   "execution_count": 68,
   "metadata": {
    "ExecuteTime": {
     "end_time": "2022-02-21T05:18:59.225973Z",
     "start_time": "2022-02-21T05:18:59.198977Z"
    }
   },
   "outputs": [],
   "source": [
    "# Pembagian musim berdasarkan bulan\n",
    "df['Season'] = np.nan\n",
    "df.loc[(df['Month'] > 2) & (df['Month'] <= 5), 'Season'] = 'Autumn'\n",
    "df.loc[(df['Month'] > 5) & (df['Month'] <= 8), 'Season'] = 'Winter'\n",
    "df.loc[(df['Month'] > 8) & (df['Month'] <= 11), 'Season'] = 'Spring'\n",
    "df.loc[df['Month'] <= 2, 'Season'] = 'Summer'\n",
    "df.loc[df['Month'] == 12, 'Season'] = 'Summer'"
   ]
  },
  {
   "cell_type": "code",
   "execution_count": 75,
   "metadata": {
    "ExecuteTime": {
     "end_time": "2022-02-21T05:31:44.802188Z",
     "start_time": "2022-02-21T05:31:44.600189Z"
    }
   },
   "outputs": [
    {
     "data": {
      "image/png": "[encoded data removed]",
      "text/plain": [
       "<Figure size 720x360 with 1 Axes>"
      ]
     },
     "metadata": {
      "needs_background": "light"
     },
     "output_type": "display_data"
    }
   ],
   "source": [
    "plt.figure(figsize=(10,5))\n",
    "sns.scatterplot(x=\"Season\", y=\"Price\", data=df,estimator=np.median)\n",
    "plt.title ('Perbandingan harga rumah berdasarkan Season', size=14)\n",
    "plt.tight_layout()\n",
    "plt.show()"
   ]
  },
  {
   "cell_type": "code",
   "execution_count": 71,
   "metadata": {
    "ExecuteTime": {
     "end_time": "2022-02-21T05:20:30.920556Z",
     "start_time": "2022-02-21T05:20:30.690539Z"
    }
   },
   "outputs": [
    {
     "data": {
      "image/png": "[encoded data removed]",
      "text/plain": [
       "<Figure size 720x360 with 1 Axes>"
      ]
     },
     "metadata": {
      "needs_background": "light"
     },
     "output_type": "display_data"
    }
   ],
   "source": [
    "plt.figure(figsize=(10,5))\n",
    "sns.boxenplot(x=\"Season\", y=\"Price\", data=df)\n",
    "plt.title ('Perbandingan harga rumah berdasarkan Season', size=14)\n",
    "plt.tight_layout()\n",
    "plt.show()"
   ]
  },
  {
   "cell_type": "markdown",
   "metadata": {},
   "source": [
    "Dari hasil visualisasi, didapatkan bahwa harga properti memiliki kenaikan tertinggi pada musim Autumn dan kenaikan terendah pada musim Summer"
   ]
  },
  {
   "cell_type": "code",
   "execution_count": 72,
   "metadata": {
    "ExecuteTime": {
     "end_time": "2022-02-21T05:25:10.773440Z",
     "start_time": "2022-02-21T05:25:10.751445Z"
    }
   },
   "outputs": [],
   "source": [
    "# Analisis harga dengan musim\n",
    "spring_sales = df['Price'].loc[(df['Season']=='Spring')].sum()/df['Price'].sum()\n",
    "summer_sales = df['Price'].loc[(df['Season']=='Summer')].sum()/df['Price'].sum()\n",
    "autumn_sales = df['Price'].loc[(df['Season']=='Autumn')].sum()/df['Price'].sum()\n",
    "winter_sales = df['Price'].loc[(df['Season']=='Winter')].sum()/df['Price'].sum()"
   ]
  },
  {
   "cell_type": "code",
   "execution_count": 74,
   "metadata": {
    "ExecuteTime": {
     "end_time": "2022-02-21T05:26:06.273980Z",
     "start_time": "2022-02-21T05:26:06.138972Z"
    }
   },
   "outputs": [
    {
     "data": {
      "image/png": "[encoded data removed]",
      "text/plain": [
       "<Figure size 1080x576 with 1 Axes>"
      ]
     },
     "metadata": {},
     "output_type": "display_data"
    }
   ],
   "source": [
    "# buat pie chart\n",
    "labels = ['Spring','Summer', 'Autumn', 'Winter']\n",
    "\n",
    "#define data\n",
    "data = [spring_sales, summer_sales, autumn_sales, winter_sales]\n",
    "\n",
    "#tentukan warna\n",
    "colors = sns.color_palette('deep')[0:5]\n",
    "\n",
    "plt.figure(figsize=(15,8))\n",
    "plt.title(\"Percentage of Sales by Seasons 2016-2017\", fontsize=14);\n",
    "\n",
    "plt.pie(data, labels = labels, explode=[0.05]*4, colors = colors, autopct='%.1f%%')\n",
    "plt.show()"
   ]
  },
  {
   "cell_type": "markdown",
   "metadata": {},
   "source": [
    "Dari gambar di atas, kita dapat mengobservasi bahwa proporsi Winter sekitar 32.5%, lalu Autumn 32.2%, dan Spring 26.8%. Summer Season memiliki proporsi terendah sebesar 8,5%\n"
   ]
  },
  {
   "cell_type": "markdown",
   "metadata": {
    "ExecuteTime": {
     "end_time": "2022-02-21T05:32:44.694895Z",
     "start_time": "2022-02-21T05:32:44.679900Z"
    }
   },
   "source": [
    "**Mari kita uraikan berdasarkan musim di tahun 2016 dan amati trennya**"
   ]
  },
  {
   "cell_type": "code",
   "execution_count": 77,
   "metadata": {
    "ExecuteTime": {
     "end_time": "2022-02-21T05:32:58.783080Z",
     "start_time": "2022-02-21T05:32:58.761081Z"
    }
   },
   "outputs": [],
   "source": [
    "# distribution penjualan per musim di tahun 2016\n",
    "sales_2016 = df['Price'].loc[(df['Year']==2016)].sum()\n",
    "\n",
    "spring_2016 = df['Price'].loc[(df['Year']==2016) & (df['Season']=='Spring')].sum()/sales_2016\n",
    "summer_2016 = df['Price'].loc[(df['Year']==2016) & (df['Season']=='Summer')].sum()/sales_2016\n",
    "autumn_2016 = df['Price'].loc[(df['Year']==2016) & (df['Season']=='Autumn')].sum()/sales_2016\n",
    "winter_2016 = df['Price'].loc[(df['Year']==2016) & (df['Season']=='Winter')].sum()/sales_2016"
   ]
  },
  {
   "cell_type": "code",
   "execution_count": 78,
   "metadata": {
    "ExecuteTime": {
     "end_time": "2022-02-21T05:33:03.217150Z",
     "start_time": "2022-02-21T05:33:03.067137Z"
    }
   },
   "outputs": [
    {
     "data": {
      "image/png": "[encoded data removed]",
      "text/plain": [
       "<Figure size 1440x576 with 1 Axes>"
      ]
     },
     "metadata": {},
     "output_type": "display_data"
    }
   ],
   "source": [
    "# distribution penjualan per musim di tahun 2016\n",
    "labels = ['Spring 16','Summer 16', 'Autumn 16', 'Winter 16']\n",
    "#define data\n",
    "data = [spring_2016, summer_2016, autumn_2016, winter_2016]\n",
    "\n",
    "#define color\n",
    "colors = sns.color_palette('Spectral')[0:5]\n",
    "\n",
    "plt.figure(figsize=(20,8))\n",
    "plt.title(\"Percentage of Sales by Season for the year 2016\", fontsize=14);\n",
    "\n",
    "plt.pie(data, labels = labels, explode=[0.05]*4, colors = colors, autopct='%.1f%%')\n",
    "plt.show();"
   ]
  },
  {
   "cell_type": "markdown",
   "metadata": {},
   "source": [
    "**Mari kita uraikan berdasarkan musim di tahun 2017 dan amati trennya**"
   ]
  },
  {
   "cell_type": "code",
   "execution_count": 79,
   "metadata": {
    "ExecuteTime": {
     "end_time": "2022-02-21T05:33:19.506528Z",
     "start_time": "2022-02-21T05:33:19.483531Z"
    }
   },
   "outputs": [],
   "source": [
    "sales_2017 = df['Price'].loc[(df['Year']==2017)].sum()\n",
    "\n",
    "spring_2017 = df['Price'].loc[(df['Year']==2017) & (df['Season']=='Spring')].sum()/sales_2017\n",
    "summer_2017 = df['Price'].loc[(df['Year']==2017) & (df['Season']=='Summer')].sum()/sales_2017\n",
    "autumn_2017 = df['Price'].loc[(df['Year']==2017) & (df['Season']=='Autumn')].sum()/sales_2017\n",
    "winter_2017 = df['Price'].loc[(df['Year']==2017) & (df['Season']=='Winter')].sum()/sales_2017"
   ]
  },
  {
   "cell_type": "code",
   "execution_count": 80,
   "metadata": {
    "ExecuteTime": {
     "end_time": "2022-02-21T05:33:23.720570Z",
     "start_time": "2022-02-21T05:33:23.582562Z"
    }
   },
   "outputs": [
    {
     "data": {
      "image/png": "[encoded data removed]",
      "text/plain": [
       "<Figure size 1440x576 with 1 Axes>"
      ]
     },
     "metadata": {},
     "output_type": "display_data"
    }
   ],
   "source": [
    "# Distribusi Penjualan per Musim di tahun 2017\n",
    "\n",
    "labels = ['Spring 17','Summer 17', 'Autumn 17', 'Winter 17']\n",
    "#define data\n",
    "data = [spring_2017, summer_2017, autumn_2017, winter_2017]\n",
    "\n",
    "#define color\n",
    "colors = sns.color_palette('vlag')[0:5]\n",
    "\n",
    "plt.figure(figsize=(20,8))\n",
    "plt.title(\"Percentage of Sales by Season 2017\", fontsize=14);\n",
    "\n",
    "plt.pie(data, labels = labels, explode=[0.05]*4, colors = colors, autopct='%.1f%%')\n",
    "plt.show();"
   ]
  },
  {
   "cell_type": "markdown",
   "metadata": {
    "ExecuteTime": {
     "end_time": "2022-02-21T05:33:35.043335Z",
     "start_time": "2022-02-21T05:33:35.026328Z"
    }
   },
   "source": [
    "* Pada tahun 2016, penjualan tertinggi terjadi pada Spring season dan penjualan terendah terjadi pada Summer season\n",
    "* Pada tahun 2017, penjualan tertinggi terjadi pada Autumn season dan penjualan terendah terjadi pada Summer season"
   ]
  },
  {
   "cell_type": "markdown",
   "metadata": {},
   "source": [
    "\n",
    "# Rekomendasi : \n",
    "\n",
    "Dari hasil analisis data, kami sebagai sales memberikan rekomendasi dengan cara melakukan bundling penjualan kepada customer berdasarkan range harga. Adapula paket penjualan dikategorikan ke dalam dua tipe, yaitu paket berdasarkan spesifikasi bangunan atau berdasarkan area. Berikut adalah detail paket yang kami tawarkan kepada customer:\n",
    "\n",
    "**PaketSatu = Price < 570.000 AUD**\n",
    "* Spesifikasi yang didapat berdasarkan bangunan: \n",
    "    * Rooms: 1 Room\n",
    "    * Type: u,h,t\n",
    "    * Bedroom2: 1 Bedroom\n",
    "    * Landsize: small (Maksimal ukuran tanah: 142)\n",
    "    * BuildingArea: small (Maksimal ukuran bangungan: 116)\n",
    "* Opsi berdasarkan Area:    \n",
    "    * Suburb: Melbourne, Maribyrnong\n",
    "    * Regionname: Northern Metropolitan, Western Metropolitan\n",
    "\n",
    "**PaketDua = Price dari 570.000 AUD hingga 1.280.000 AUD**\n",
    "* Spesifikasi yang didapat berdasarkan bangunan: \n",
    "    * Rooms: 2-3 Rooms\n",
    "    * Type: u,h,t\n",
    "    * Bedroom2: 2-3 Bedrooms\n",
    "    * Landsize: small, medium, large (Maksimal ukuran 37000)\n",
    "    * BuildingArea: small, medium (Maksimal ukuran 286)\n",
    "* Opsi berdasarkan Area:  \n",
    "     * Suburb: Southbank, North Melbourne, Dockland, South Yarra, Kensington, Maribyrnong, East Melbourne, Flemington, Carlton, Travancore, West Melbourne, Ascot Vale, Parkvile, Port Melbourne\n",
    "      * Regionname: Northern Metropolitan, Western Metropolitan, Southern Metropolitan\n",
    "\n",
    "**PaketTiga = Price > 1.280.000 AUD**\n",
    "* Spesifikasi yang didapat berdasarkan bangunan:\n",
    "    * Rooms: 4-6 rooms\n",
    "    * Type: u,h,t\n",
    "    * Bedroom2:  4-6 Bedrooms\n",
    "    * Landsize: small, medium, large (Maksimal ukuran 21700)\n",
    "    * BuildingArea: small, medium, large (Maksimal Bangunan: 450)\n",
    "* Opsi berdasarkan Area: \n",
    "    * Suburb: Carlton North, Pricess Hill\n",
    "    * Regionname: Northern Metropolitan\n",
    "    \n",
    " "
   ]
  }
 ],
 "metadata": {
  "interpreter": {
   "hash": "f6cadb433fb4d5e490a52a7886e50fe75cf2fd39fd559aabdd1f0f7248e07363"
  },
  "kernelspec": {
   "display_name": "Python 3",
   "language": "python",
   "name": "python3"
  },
  "language_info": {
   "codemirror_mode": {
    "name": "ipython",
    "version": 3
   },
   "file_extension": ".py",
   "mimetype": "text/x-python",
   "name": "python",
   "nbconvert_exporter": "python",
   "pygments_lexer": "ipython3",
   "version": "3.8.8"
  },
  "toc": {
   "base_numbering": 1,
   "nav_menu": {},
   "number_sections": true,
   "sideBar": true,
   "skip_h1_title": false,
   "title_cell": "Table of Contents",
   "title_sidebar": "Contents",
   "toc_cell": false,
   "toc_position": {},
   "toc_section_display": true,
   "toc_window_display": false
  }
 },
 "nbformat": 4,
 "nbformat_minor": 2
}
